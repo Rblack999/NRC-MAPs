{
 "cells": [
  {
   "cell_type": "code",
   "execution_count": 1,
   "id": "6b043c58",
   "metadata": {},
   "outputs": [],
   "source": [
    "import serial\n",
    "import time       \n",
    "import io\n",
    "from nesp_lib import Port, Pump, PumpingDirection\n",
    "\n",
    "class CellWashing:\n",
    "    \n",
    "    # Start on class instantiate\n",
    "    def __init__(self, valve_com_port, syringe_com_port):\n",
    "        \n",
    "        self.valve_com_port = valve_com_port\n",
    "        self.syringe_com_port = syringe_com_port\n",
    "        \n",
    "        # Connect valve via the specified com_port\n",
    "        self.ser = serial.Serial(port = self.valve_com_port,  #Check your device manager and change the COM port here as needed.\n",
    "                    baudrate = 9600, \n",
    "                    bytesize = serial.EIGHTBITS,  \n",
    "                    parity = serial.PARITY_NONE,   #Establishes a serial connection between valve controller and computer.\n",
    "                    stopbits = serial.STOPBITS_ONE\n",
    "                   )\n",
    "        \n",
    "        print('Valve Connected')\n",
    "        \n",
    "        # Connect syringe via the specified com_port\n",
    "        self.port = Port(self.syringe_com_port)\n",
    "        self.pump = Pump(self.port, address = 1)\n",
    "        time.sleep(1)\n",
    "        \n",
    "        # Sets the syringe diameter of the pump in units of millimeters.\n",
    "        self.pump.syringe_diameter = 26.64\n",
    "        \n",
    "        # Sets the pumping rate of the pump in units of milliliters per minute.\n",
    "        self.pump.pumping_rate = 25\n",
    "        \n",
    "        print('Syringe Pump Connected')\n",
    "    \n",
    "    # This is for the serial communications with the valve\n",
    "    def _readline(self): #Used to ensure readline() end at \\r since readline() function no longer exists in Python 3.x\n",
    "        \n",
    "        eol = b'\\r'\n",
    "        leneol = len(eol)\n",
    "        line = bytearray()\n",
    "        while True:\n",
    "            c = self.ser.read(1)\n",
    "            if c:\n",
    "                line += c\n",
    "                if line[-leneol:] == eol:\n",
    "                    break\n",
    "            else:\n",
    "                break\n",
    "        print(bytes(line))\n",
    "        return bytes(line)\n",
    "\n",
    "    # Def move the valve to any direction that is wished\n",
    "    def move_valve(self, valve_num):\n",
    "        \n",
    "        # Input check\n",
    "        if valve_num not in [1,2,3,4,5,6]:\n",
    "            raise NameError(f'Invalid valve change position - must be [1,2,3,4,5,6]')\n",
    "                \n",
    "        print(f'Valve request to moved to position {valve_num}')\n",
    "        position = f'GO0{valve_num}\\r'     \n",
    "        self.ser.write(position.encode()) #Serial command communicates and \"instructs\" the valve controller to change positions.\n",
    "        time.sleep(1)\n",
    "\n",
    "        self.ser.write(b'CP\\r')     #This serial command prints the current position of the valve.\n",
    "        time.sleep(0.2)\n",
    "        self._readline()\n",
    "    \n",
    "    # Definitions of the pump\n",
    "    # Port 1 - DI Water Source\n",
    "    # Port 2 - Deposition Cell\n",
    "    # Port 3 - Characterization Cell\n",
    "    # Port 4 - Waste\n",
    "    \n",
    "    # The following code is purely for the cell washing steps\n",
    "    def wash_deposition_cell(self, volume, num_wash_steps): \n",
    "        \n",
    "        # Sets the pumping volume of the pump in units of milliliters.\n",
    "        self.pump.pumping_volume = volume\n",
    "        \n",
    "        # Initial withdraw of liquid from cell\n",
    "        self.move_valve(2)\n",
    "        self.pump.pumping_direction = PumpingDirection.WITHDRAW\n",
    "        self.pump.run()\n",
    "        self.move_valve(4)\n",
    "        self.pump.pumping_direction = PumpingDirection.INFUSE\n",
    "        self.pump.run()\n",
    "        \n",
    "        # Washing loop \n",
    "        for i in range(num_wash_steps):\n",
    "                self.move_valve(1)\n",
    "                self.pump.pumping_direction = PumpingDirection.WITHDRAW\n",
    "                self.pump.run()\n",
    "                self.move_valve(2)\n",
    "                self.pump.pumping_direction = PumpingDirection.INFUSE\n",
    "                self.pump.run()\n",
    "                self.pump.pumping_direction = PumpingDirection.WITHDRAW\n",
    "                self.pump.run()\n",
    "                self.move_valve(4)\n",
    "                self.pump.pumping_direction = PumpingDirection.INFUSE\n",
    "                self.pump.run()\n",
    "                \n",
    "    def wash_characterization_cell(self, volume, num_wash_steps): \n",
    "        \n",
    "        # Sets the pumping volume of the pump in units of milliliters.\n",
    "        self.pump.pumping_volume = volume\n",
    "        \n",
    "        # Initial withdraw of liquid from cell\n",
    "        self.move_valve(3)\n",
    "        self.pump.pumping_direction = PumpingDirection.WITHDRAW\n",
    "        self.pump.run()\n",
    "        self.move_valve(4)\n",
    "        self.pump.pumping_direction = PumpingDirection.INFUSE\n",
    "        self.pump.run()\n",
    "        \n",
    "        # Washing loop \n",
    "        for i in range(num_wash_steps):\n",
    "                self.move_valve(1)\n",
    "                self.pump.pumping_direction = PumpingDirection.WITHDRAW\n",
    "                self.pump.run()\n",
    "                self.move_valve(3)\n",
    "                self.pump.pumping_direction = PumpingDirection.INFUSE\n",
    "                self.pump.run()\n",
    "                self.pump.pumping_direction = PumpingDirection.WITHDRAW\n",
    "                self.pump.run()\n",
    "                self.move_valve(4)\n",
    "                self.pump.pumping_direction = PumpingDirection.INFUSE\n",
    "                self.pump.run()\n",
    "        "
   ]
  },
  {
   "cell_type": "code",
   "execution_count": 2,
   "id": "546fd783",
   "metadata": {},
   "outputs": [
    {
     "name": "stdout",
     "output_type": "stream",
     "text": [
      "Valve Connected\n",
      "Syringe Pump Connected\n"
     ]
    }
   ],
   "source": [
    "syringe = CellWashing(valve_com_port= 'COM18', syringe_com_port= 'COM13')"
   ]
  },
  {
   "cell_type": "code",
   "execution_count": 5,
   "id": "399a4bb1",
   "metadata": {},
   "outputs": [
    {
     "name": "stdout",
     "output_type": "stream",
     "text": [
      "Valve request to moved to position 3\n",
      "b'CP03\\r'\n",
      "Valve request to moved to position 4\n",
      "b'CP04\\r'\n",
      "Valve request to moved to position 1\n",
      "b'CP01\\r'\n",
      "Valve request to moved to position 3\n",
      "b'CP03\\r'\n",
      "Valve request to moved to position 4\n",
      "b'CP04\\r'\n",
      "Valve request to moved to position 1\n",
      "b'CP01\\r'\n",
      "Valve request to moved to position 3\n",
      "b'CP03\\r'\n",
      "Valve request to moved to position 4\n",
      "b'CP04\\r'\n",
      "Valve request to moved to position 1\n",
      "b'CP01\\r'\n",
      "Valve request to moved to position 3\n",
      "b'CP03\\r'\n"
     ]
    },
    {
     "ename": "SerialException",
     "evalue": "ClearCommError failed (PermissionError(13, 'The device does not recognize the command.', None, 22))",
     "output_type": "error",
     "traceback": [
      "\u001b[1;31m---------------------------------------------------------------------------\u001b[0m",
      "\u001b[1;31mSerialException\u001b[0m                           Traceback (most recent call last)",
      "\u001b[1;32m~\\AppData\\Local\\Temp\\1/ipykernel_10708/3896655828.py\u001b[0m in \u001b[0;36m<module>\u001b[1;34m\u001b[0m\n\u001b[1;32m----> 1\u001b[1;33m \u001b[0msyringe\u001b[0m\u001b[1;33m.\u001b[0m\u001b[0mwash_characterization_cell\u001b[0m\u001b[1;33m(\u001b[0m\u001b[0mvolume\u001b[0m  \u001b[1;33m=\u001b[0m \u001b[1;36m30\u001b[0m\u001b[1;33m,\u001b[0m \u001b[0mnum_wash_steps\u001b[0m \u001b[1;33m=\u001b[0m \u001b[1;36m3\u001b[0m\u001b[1;33m)\u001b[0m\u001b[1;33m\u001b[0m\u001b[1;33m\u001b[0m\u001b[0m\n\u001b[0m",
      "\u001b[1;32m~\\AppData\\Local\\Temp\\1/ipykernel_10708/1548650901.py\u001b[0m in \u001b[0;36mwash_characterization_cell\u001b[1;34m(self, volume, num_wash_steps)\u001b[0m\n\u001b[0;32m    124\u001b[0m                 \u001b[0mself\u001b[0m\u001b[1;33m.\u001b[0m\u001b[0mpump\u001b[0m\u001b[1;33m.\u001b[0m\u001b[0mrun\u001b[0m\u001b[1;33m(\u001b[0m\u001b[1;33m)\u001b[0m\u001b[1;33m\u001b[0m\u001b[1;33m\u001b[0m\u001b[0m\n\u001b[0;32m    125\u001b[0m                 \u001b[0mself\u001b[0m\u001b[1;33m.\u001b[0m\u001b[0mpump\u001b[0m\u001b[1;33m.\u001b[0m\u001b[0mpumping_direction\u001b[0m \u001b[1;33m=\u001b[0m \u001b[0mPumpingDirection\u001b[0m\u001b[1;33m.\u001b[0m\u001b[0mWITHDRAW\u001b[0m\u001b[1;33m\u001b[0m\u001b[1;33m\u001b[0m\u001b[0m\n\u001b[1;32m--> 126\u001b[1;33m                 \u001b[0mself\u001b[0m\u001b[1;33m.\u001b[0m\u001b[0mpump\u001b[0m\u001b[1;33m.\u001b[0m\u001b[0mrun\u001b[0m\u001b[1;33m(\u001b[0m\u001b[1;33m)\u001b[0m\u001b[1;33m\u001b[0m\u001b[1;33m\u001b[0m\u001b[0m\n\u001b[0m\u001b[0;32m    127\u001b[0m                 \u001b[0mself\u001b[0m\u001b[1;33m.\u001b[0m\u001b[0mmove_valve\u001b[0m\u001b[1;33m(\u001b[0m\u001b[1;36m4\u001b[0m\u001b[1;33m)\u001b[0m\u001b[1;33m\u001b[0m\u001b[1;33m\u001b[0m\u001b[0m\n\u001b[0;32m    128\u001b[0m                 \u001b[0mself\u001b[0m\u001b[1;33m.\u001b[0m\u001b[0mpump\u001b[0m\u001b[1;33m.\u001b[0m\u001b[0mpumping_direction\u001b[0m \u001b[1;33m=\u001b[0m \u001b[0mPumpingDirection\u001b[0m\u001b[1;33m.\u001b[0m\u001b[0mINFUSE\u001b[0m\u001b[1;33m\u001b[0m\u001b[1;33m\u001b[0m\u001b[0m\n",
      "\u001b[1;32m~\\Anaconda3\\envs\\CCUS\\lib\\site-packages\\nesp_lib\\pump.py\u001b[0m in \u001b[0;36mrun\u001b[1;34m(self, wait_while_running)\u001b[0m\n\u001b[0;32m    303\u001b[0m         \u001b[0mself\u001b[0m\u001b[1;33m.\u001b[0m\u001b[0m__command_transceive\u001b[0m\u001b[1;33m(\u001b[0m\u001b[0mPump\u001b[0m\u001b[1;33m.\u001b[0m\u001b[0m__CommandName\u001b[0m\u001b[1;33m.\u001b[0m\u001b[0mRUN\u001b[0m\u001b[1;33m)\u001b[0m\u001b[1;33m\u001b[0m\u001b[1;33m\u001b[0m\u001b[0m\n\u001b[0;32m    304\u001b[0m         \u001b[1;32mif\u001b[0m \u001b[0mwait_while_running\u001b[0m \u001b[1;33m:\u001b[0m\u001b[1;33m\u001b[0m\u001b[1;33m\u001b[0m\u001b[0m\n\u001b[1;32m--> 305\u001b[1;33m             \u001b[0mself\u001b[0m\u001b[1;33m.\u001b[0m\u001b[0mwait_while_running\u001b[0m\u001b[1;33m(\u001b[0m\u001b[1;33m)\u001b[0m\u001b[1;33m\u001b[0m\u001b[1;33m\u001b[0m\u001b[0m\n\u001b[0m\u001b[0;32m    306\u001b[0m \u001b[1;33m\u001b[0m\u001b[0m\n\u001b[0;32m    307\u001b[0m     \u001b[1;32mdef\u001b[0m \u001b[0mrun_purge\u001b[0m\u001b[1;33m(\u001b[0m\u001b[0mself\u001b[0m\u001b[1;33m)\u001b[0m \u001b[1;33m->\u001b[0m \u001b[1;32mNone\u001b[0m \u001b[1;33m:\u001b[0m\u001b[1;33m\u001b[0m\u001b[1;33m\u001b[0m\u001b[0m\n",
      "\u001b[1;32m~\\Anaconda3\\envs\\CCUS\\lib\\site-packages\\nesp_lib\\pump.py\u001b[0m in \u001b[0;36mwait_while_running\u001b[1;34m(self)\u001b[0m\n\u001b[0;32m    326\u001b[0m     \u001b[1;32mdef\u001b[0m \u001b[0mwait_while_running\u001b[0m\u001b[1;33m(\u001b[0m\u001b[0mself\u001b[0m\u001b[1;33m)\u001b[0m \u001b[1;33m->\u001b[0m \u001b[1;32mNone\u001b[0m \u001b[1;33m:\u001b[0m\u001b[1;33m\u001b[0m\u001b[1;33m\u001b[0m\u001b[0m\n\u001b[0;32m    327\u001b[0m         \u001b[1;34m\"\"\"Waits while the pump is running.\"\"\"\u001b[0m\u001b[1;33m\u001b[0m\u001b[1;33m\u001b[0m\u001b[0m\n\u001b[1;32m--> 328\u001b[1;33m         \u001b[1;32mwhile\u001b[0m \u001b[0mself\u001b[0m\u001b[1;33m.\u001b[0m\u001b[0mrunning\u001b[0m \u001b[1;33m:\u001b[0m\u001b[1;33m\u001b[0m\u001b[1;33m\u001b[0m\u001b[0m\n\u001b[0m\u001b[0;32m    329\u001b[0m             \u001b[0mtime\u001b[0m\u001b[1;33m.\u001b[0m\u001b[0msleep\u001b[0m\u001b[1;33m(\u001b[0m\u001b[0mPump\u001b[0m\u001b[1;33m.\u001b[0m\u001b[0mPUMPING_POLL_DELAY\u001b[0m\u001b[1;33m)\u001b[0m\u001b[1;33m\u001b[0m\u001b[1;33m\u001b[0m\u001b[0m\n\u001b[0;32m    330\u001b[0m \u001b[1;33m\u001b[0m\u001b[0m\n",
      "\u001b[1;32m~\\Anaconda3\\envs\\CCUS\\lib\\site-packages\\nesp_lib\\pump.py\u001b[0m in \u001b[0;36mrunning\u001b[1;34m(self)\u001b[0m\n\u001b[0;32m    139\u001b[0m     \u001b[1;32mdef\u001b[0m \u001b[0mrunning\u001b[0m\u001b[1;33m(\u001b[0m\u001b[0mself\u001b[0m\u001b[1;33m)\u001b[0m \u001b[1;33m->\u001b[0m \u001b[0mbool\u001b[0m \u001b[1;33m:\u001b[0m\u001b[1;33m\u001b[0m\u001b[1;33m\u001b[0m\u001b[0m\n\u001b[0;32m    140\u001b[0m         \u001b[1;34m\"\"\"Gets if the pump is running.\"\"\"\u001b[0m\u001b[1;33m\u001b[0m\u001b[1;33m\u001b[0m\u001b[0m\n\u001b[1;32m--> 141\u001b[1;33m         \u001b[1;32mreturn\u001b[0m \u001b[0mself\u001b[0m\u001b[1;33m.\u001b[0m\u001b[0mstatus\u001b[0m \u001b[1;32min\u001b[0m \u001b[1;33m[\u001b[0m\u001b[0mStatus\u001b[0m\u001b[1;33m.\u001b[0m\u001b[0mINFUSING\u001b[0m\u001b[1;33m,\u001b[0m \u001b[0mStatus\u001b[0m\u001b[1;33m.\u001b[0m\u001b[0mWITHDRAWING\u001b[0m\u001b[1;33m,\u001b[0m \u001b[0mStatus\u001b[0m\u001b[1;33m.\u001b[0m\u001b[0mPURGING\u001b[0m\u001b[1;33m]\u001b[0m\u001b[1;33m\u001b[0m\u001b[1;33m\u001b[0m\u001b[0m\n\u001b[0m\u001b[0;32m    142\u001b[0m \u001b[1;33m\u001b[0m\u001b[0m\n\u001b[0;32m    143\u001b[0m     \u001b[1;33m@\u001b[0m\u001b[0mproperty\u001b[0m\u001b[1;33m\u001b[0m\u001b[1;33m\u001b[0m\u001b[0m\n",
      "\u001b[1;32m~\\Anaconda3\\envs\\CCUS\\lib\\site-packages\\nesp_lib\\pump.py\u001b[0m in \u001b[0;36mstatus\u001b[1;34m(self)\u001b[0m\n\u001b[0;32m    133\u001b[0m     \u001b[1;32mdef\u001b[0m \u001b[0mstatus\u001b[0m\u001b[1;33m(\u001b[0m\u001b[0mself\u001b[0m\u001b[1;33m)\u001b[0m \u001b[1;33m->\u001b[0m \u001b[0mStatus\u001b[0m \u001b[1;33m:\u001b[0m\u001b[1;33m\u001b[0m\u001b[1;33m\u001b[0m\u001b[0m\n\u001b[0;32m    134\u001b[0m         \u001b[1;34m\"\"\"Gets the status of the pump.\"\"\"\u001b[0m\u001b[1;33m\u001b[0m\u001b[1;33m\u001b[0m\u001b[0m\n\u001b[1;32m--> 135\u001b[1;33m         \u001b[0mstatus\u001b[0m\u001b[1;33m,\u001b[0m \u001b[0m_\u001b[0m \u001b[1;33m=\u001b[0m \u001b[0mself\u001b[0m\u001b[1;33m.\u001b[0m\u001b[0m__command_transceive\u001b[0m\u001b[1;33m(\u001b[0m\u001b[0mPump\u001b[0m\u001b[1;33m.\u001b[0m\u001b[0m__CommandName\u001b[0m\u001b[1;33m.\u001b[0m\u001b[0mSTATUS\u001b[0m\u001b[1;33m)\u001b[0m\u001b[1;33m\u001b[0m\u001b[1;33m\u001b[0m\u001b[0m\n\u001b[0m\u001b[0;32m    136\u001b[0m         \u001b[1;32mreturn\u001b[0m \u001b[0mstatus\u001b[0m\u001b[1;33m\u001b[0m\u001b[1;33m\u001b[0m\u001b[0m\n\u001b[0;32m    137\u001b[0m \u001b[1;33m\u001b[0m\u001b[0m\n",
      "\u001b[1;32m~\\Anaconda3\\envs\\CCUS\\lib\\site-packages\\nesp_lib\\pump.py\u001b[0m in \u001b[0;36m__command_transceive\u001b[1;34m(self, name, arguments, re_pattern_result, safe_mode_transmit, safe_mode_receive, alarm_ignore)\u001b[0m\n\u001b[0;32m    636\u001b[0m                 \u001b[0marguments\u001b[0m\u001b[1;33m,\u001b[0m\u001b[1;33m\u001b[0m\u001b[1;33m\u001b[0m\u001b[0m\n\u001b[0;32m    637\u001b[0m                 \u001b[0mre_pattern_result\u001b[0m\u001b[1;33m,\u001b[0m\u001b[1;33m\u001b[0m\u001b[1;33m\u001b[0m\u001b[0m\n\u001b[1;32m--> 638\u001b[1;33m                 \u001b[0malarm_ignore\u001b[0m\u001b[1;33m\u001b[0m\u001b[1;33m\u001b[0m\u001b[0m\n\u001b[0m\u001b[0;32m    639\u001b[0m             )\n\u001b[0;32m    640\u001b[0m         \u001b[1;32mif\u001b[0m \u001b[0mself\u001b[0m\u001b[1;33m.\u001b[0m\u001b[0m__heartbeat_event\u001b[0m \u001b[1;32mis\u001b[0m \u001b[1;32mnot\u001b[0m \u001b[1;32mNone\u001b[0m \u001b[1;33m:\u001b[0m\u001b[1;33m\u001b[0m\u001b[1;33m\u001b[0m\u001b[0m\n",
      "\u001b[1;32m~\\Anaconda3\\envs\\CCUS\\lib\\site-packages\\nesp_lib\\pump.py\u001b[0m in \u001b[0;36m__command_transceive_port\u001b[1;34m(cls, port, safe_mode_transmit, safe_mode_receive, address, name, arguments, re_pattern_result, alarm_ignore)\u001b[0m\n\u001b[0;32m    599\u001b[0m                 \u001b[0mreply\u001b[0m \u001b[1;33m=\u001b[0m \u001b[0mcls\u001b[0m\u001b[1;33m.\u001b[0m\u001b[0m__command_reply_receive_port_safe\u001b[0m\u001b[1;33m(\u001b[0m\u001b[0mport\u001b[0m\u001b[1;33m)\u001b[0m\u001b[1;33m\u001b[0m\u001b[1;33m\u001b[0m\u001b[0m\n\u001b[0;32m    600\u001b[0m             \u001b[1;32melse\u001b[0m \u001b[1;33m:\u001b[0m\u001b[1;33m\u001b[0m\u001b[1;33m\u001b[0m\u001b[0m\n\u001b[1;32m--> 601\u001b[1;33m                 \u001b[0mreply\u001b[0m \u001b[1;33m=\u001b[0m \u001b[0mcls\u001b[0m\u001b[1;33m.\u001b[0m\u001b[0m__command_reply_receive_port_basic\u001b[0m\u001b[1;33m(\u001b[0m\u001b[0mport\u001b[0m\u001b[1;33m)\u001b[0m\u001b[1;33m\u001b[0m\u001b[1;33m\u001b[0m\u001b[0m\n\u001b[0m\u001b[0;32m    602\u001b[0m             \u001b[0mstatus\u001b[0m\u001b[1;33m,\u001b[0m \u001b[0malarm\u001b[0m\u001b[1;33m,\u001b[0m \u001b[0mresult\u001b[0m \u001b[1;33m=\u001b[0m \u001b[0mcls\u001b[0m\u001b[1;33m.\u001b[0m\u001b[0m__command_reply_parse\u001b[0m\u001b[1;33m(\u001b[0m\u001b[0maddress\u001b[0m\u001b[1;33m,\u001b[0m \u001b[0mreply\u001b[0m\u001b[1;33m)\u001b[0m\u001b[1;33m\u001b[0m\u001b[1;33m\u001b[0m\u001b[0m\n\u001b[0;32m    603\u001b[0m             \u001b[1;32mif\u001b[0m \u001b[0malarm\u001b[0m \u001b[1;32mis\u001b[0m \u001b[1;32mnot\u001b[0m \u001b[1;32mNone\u001b[0m \u001b[1;32mand\u001b[0m \u001b[0malarm_ignore\u001b[0m \u001b[1;33m:\u001b[0m\u001b[1;33m\u001b[0m\u001b[1;33m\u001b[0m\u001b[0m\n",
      "\u001b[1;32m~\\Anaconda3\\envs\\CCUS\\lib\\site-packages\\nesp_lib\\pump.py\u001b[0m in \u001b[0;36m__command_reply_receive_port_basic\u001b[1;34m(cls, port)\u001b[0m\n\u001b[0;32m    546\u001b[0m     \u001b[1;33m@\u001b[0m\u001b[0mclassmethod\u001b[0m\u001b[1;33m\u001b[0m\u001b[1;33m\u001b[0m\u001b[0m\n\u001b[0;32m    547\u001b[0m     \u001b[1;32mdef\u001b[0m \u001b[0m__command_reply_receive_port_basic\u001b[0m\u001b[1;33m(\u001b[0m\u001b[0mcls\u001b[0m\u001b[1;33m,\u001b[0m \u001b[0mport\u001b[0m \u001b[1;33m:\u001b[0m \u001b[0mPort\u001b[0m\u001b[1;33m)\u001b[0m \u001b[1;33m->\u001b[0m \u001b[0mstr\u001b[0m \u001b[1;33m:\u001b[0m\u001b[1;33m\u001b[0m\u001b[1;33m\u001b[0m\u001b[0m\n\u001b[1;32m--> 548\u001b[1;33m         \u001b[0mdata\u001b[0m \u001b[1;33m=\u001b[0m \u001b[0mport\u001b[0m\u001b[1;33m.\u001b[0m\u001b[0m_receive\u001b[0m\u001b[1;33m(\u001b[0m\u001b[1;36m1\u001b[0m\u001b[1;33m)\u001b[0m\u001b[1;33m\u001b[0m\u001b[1;33m\u001b[0m\u001b[0m\n\u001b[0m\u001b[0;32m    549\u001b[0m         \u001b[1;32mif\u001b[0m \u001b[0mdata\u001b[0m\u001b[1;33m[\u001b[0m\u001b[1;36m0\u001b[0m\u001b[1;33m]\u001b[0m \u001b[1;33m!=\u001b[0m \u001b[0mcls\u001b[0m\u001b[1;33m.\u001b[0m\u001b[0m__STX\u001b[0m \u001b[1;33m:\u001b[0m\u001b[1;33m\u001b[0m\u001b[1;33m\u001b[0m\u001b[0m\n\u001b[0;32m    550\u001b[0m             \u001b[1;32mraise\u001b[0m \u001b[0mInternalException\u001b[0m\u001b[1;33m(\u001b[0m\u001b[1;33m)\u001b[0m\u001b[1;33m\u001b[0m\u001b[1;33m\u001b[0m\u001b[0m\n",
      "\u001b[1;32m~\\Anaconda3\\envs\\CCUS\\lib\\site-packages\\nesp_lib\\port.py\u001b[0m in \u001b[0;36m_receive\u001b[1;34m(self, data_length)\u001b[0m\n\u001b[0;32m     51\u001b[0m             \u001b[0mLength\u001b[0m \u001b[0mof\u001b[0m \u001b[0mthe\u001b[0m \u001b[0mdata\u001b[0m \u001b[0mto\u001b[0m \u001b[0mreceive\u001b[0m\u001b[1;33m.\u001b[0m\u001b[1;33m\u001b[0m\u001b[1;33m\u001b[0m\u001b[0m\n\u001b[0;32m     52\u001b[0m         \"\"\"\n\u001b[1;32m---> 53\u001b[1;33m         \u001b[1;32mreturn\u001b[0m \u001b[0mself\u001b[0m\u001b[1;33m.\u001b[0m\u001b[0m__serial\u001b[0m\u001b[1;33m.\u001b[0m\u001b[0mread\u001b[0m\u001b[1;33m(\u001b[0m\u001b[0mdata_length\u001b[0m\u001b[1;33m)\u001b[0m\u001b[1;33m\u001b[0m\u001b[1;33m\u001b[0m\u001b[0m\n\u001b[0m\u001b[0;32m     54\u001b[0m \u001b[1;33m\u001b[0m\u001b[0m\n\u001b[0;32m     55\u001b[0m     \u001b[1;33m@\u001b[0m\u001b[0mproperty\u001b[0m\u001b[1;33m\u001b[0m\u001b[1;33m\u001b[0m\u001b[0m\n",
      "\u001b[1;32m~\\Anaconda3\\envs\\CCUS\\lib\\site-packages\\serial\\serialwin32.py\u001b[0m in \u001b[0;36mread\u001b[1;34m(self, size)\u001b[0m\n\u001b[0;32m    271\u001b[0m             \u001b[0mcomstat\u001b[0m \u001b[1;33m=\u001b[0m \u001b[0mwin32\u001b[0m\u001b[1;33m.\u001b[0m\u001b[0mCOMSTAT\u001b[0m\u001b[1;33m(\u001b[0m\u001b[1;33m)\u001b[0m\u001b[1;33m\u001b[0m\u001b[1;33m\u001b[0m\u001b[0m\n\u001b[0;32m    272\u001b[0m             \u001b[1;32mif\u001b[0m \u001b[1;32mnot\u001b[0m \u001b[0mwin32\u001b[0m\u001b[1;33m.\u001b[0m\u001b[0mClearCommError\u001b[0m\u001b[1;33m(\u001b[0m\u001b[0mself\u001b[0m\u001b[1;33m.\u001b[0m\u001b[0m_port_handle\u001b[0m\u001b[1;33m,\u001b[0m \u001b[0mctypes\u001b[0m\u001b[1;33m.\u001b[0m\u001b[0mbyref\u001b[0m\u001b[1;33m(\u001b[0m\u001b[0mflags\u001b[0m\u001b[1;33m)\u001b[0m\u001b[1;33m,\u001b[0m \u001b[0mctypes\u001b[0m\u001b[1;33m.\u001b[0m\u001b[0mbyref\u001b[0m\u001b[1;33m(\u001b[0m\u001b[0mcomstat\u001b[0m\u001b[1;33m)\u001b[0m\u001b[1;33m)\u001b[0m\u001b[1;33m:\u001b[0m\u001b[1;33m\u001b[0m\u001b[1;33m\u001b[0m\u001b[0m\n\u001b[1;32m--> 273\u001b[1;33m                 \u001b[1;32mraise\u001b[0m \u001b[0mSerialException\u001b[0m\u001b[1;33m(\u001b[0m\u001b[1;34m\"ClearCommError failed ({!r})\"\u001b[0m\u001b[1;33m.\u001b[0m\u001b[0mformat\u001b[0m\u001b[1;33m(\u001b[0m\u001b[0mctypes\u001b[0m\u001b[1;33m.\u001b[0m\u001b[0mWinError\u001b[0m\u001b[1;33m(\u001b[0m\u001b[1;33m)\u001b[0m\u001b[1;33m)\u001b[0m\u001b[1;33m)\u001b[0m\u001b[1;33m\u001b[0m\u001b[1;33m\u001b[0m\u001b[0m\n\u001b[0m\u001b[0;32m    274\u001b[0m             \u001b[0mn\u001b[0m \u001b[1;33m=\u001b[0m \u001b[0mmin\u001b[0m\u001b[1;33m(\u001b[0m\u001b[0mcomstat\u001b[0m\u001b[1;33m.\u001b[0m\u001b[0mcbInQue\u001b[0m\u001b[1;33m,\u001b[0m \u001b[0msize\u001b[0m\u001b[1;33m)\u001b[0m \u001b[1;32mif\u001b[0m \u001b[0mself\u001b[0m\u001b[1;33m.\u001b[0m\u001b[0mtimeout\u001b[0m \u001b[1;33m==\u001b[0m \u001b[1;36m0\u001b[0m \u001b[1;32melse\u001b[0m \u001b[0msize\u001b[0m\u001b[1;33m\u001b[0m\u001b[1;33m\u001b[0m\u001b[0m\n\u001b[0;32m    275\u001b[0m             \u001b[1;32mif\u001b[0m \u001b[0mn\u001b[0m \u001b[1;33m>\u001b[0m \u001b[1;36m0\u001b[0m\u001b[1;33m:\u001b[0m\u001b[1;33m\u001b[0m\u001b[1;33m\u001b[0m\u001b[0m\n",
      "\u001b[1;31mSerialException\u001b[0m: ClearCommError failed (PermissionError(13, 'The device does not recognize the command.', None, 22))"
     ]
    }
   ],
   "source": [
    "syringe.wash_characterization_cell(volume  = 30, num_wash_steps = 3)"
   ]
  },
  {
   "cell_type": "code",
   "execution_count": null,
   "id": "a006d7bf",
   "metadata": {},
   "outputs": [],
   "source": []
  },
  {
   "cell_type": "code",
   "execution_count": 2,
   "id": "1322d614",
   "metadata": {},
   "outputs": [
    {
     "name": "stdout",
     "output_type": "stream",
     "text": [
      "Valve Connected\n"
     ]
    }
   ],
   "source": [
    "syringe_pump = SyringePump('COM18')"
   ]
  },
  {
   "cell_type": "code",
   "execution_count": 4,
   "id": "4a5f2c25",
   "metadata": {},
   "outputs": [
    {
     "name": "stdout",
     "output_type": "stream",
     "text": [
      "Valve request to moved to position 1\n",
      "b'CP01\\r'\n"
     ]
    }
   ],
   "source": [
    "syringe_pump.move_valve(1)"
   ]
  },
  {
   "cell_type": "code",
   "execution_count": null,
   "id": "54f35c94",
   "metadata": {},
   "outputs": [],
   "source": []
  },
  {
   "cell_type": "markdown",
   "id": "bc8df4c0",
   "metadata": {},
   "source": [
    "***Fiddle code for the new era syringe pump***"
   ]
  },
  {
   "cell_type": "code",
   "execution_count": 1,
   "id": "31a16ff1",
   "metadata": {},
   "outputs": [],
   "source": [
    "import nesp_lib"
   ]
  },
  {
   "cell_type": "code",
   "execution_count": 1,
   "id": "f3f826bb",
   "metadata": {},
   "outputs": [],
   "source": [
    "from nesp_lib import Port, Pump, PumpingDirection"
   ]
  },
  {
   "cell_type": "code",
   "execution_count": 2,
   "id": "72294861",
   "metadata": {},
   "outputs": [],
   "source": [
    "port = Port('COM13')\n",
    "pump = Pump(port, address = 2)"
   ]
  },
  {
   "cell_type": "code",
   "execution_count": 3,
   "id": "613841cd",
   "metadata": {},
   "outputs": [
    {
     "name": "stdout",
     "output_type": "stream",
     "text": [
      "1000\n",
      "(3, 934)\n"
     ]
    }
   ],
   "source": [
    "# Prints the model number of the pump (e.g. \"1000\" for NE-1000).\n",
    "print(pump.model_number)\n",
    "# Prints the firmware version of the pump (e.g. \"(3, 928)\" for 3.928).\n",
    "print(pump.firmware_version)"
   ]
  },
  {
   "cell_type": "code",
   "execution_count": 7,
   "id": "a074afba",
   "metadata": {},
   "outputs": [],
   "source": [
    "# Sets the syringe diameter of the pump in units of millimeters.\n",
    "pump.syringe_diameter = 26.64\n",
    "# Sets the pumping direction of the pump.\n",
    "pump.pumping_direction = PumpingDirection.INFUSE\n",
    "# Sets the pumping volume of the pump in units of milliliters.\n",
    "pump.pumping_volume = 10\n",
    "# Sets the pumping rate of the pump in units of milliliters per minute.\n",
    "pump.pumping_rate = 25"
   ]
  },
  {
   "cell_type": "code",
   "execution_count": 8,
   "id": "325b512d",
   "metadata": {},
   "outputs": [],
   "source": [
    "# Runs the pump considering the direction, volume, and rate set.\n",
    "pump.run()"
   ]
  },
  {
   "cell_type": "code",
   "execution_count": null,
   "id": "05f61926",
   "metadata": {},
   "outputs": [],
   "source": []
  },
  {
   "cell_type": "code",
   "execution_count": 10,
   "id": "5c112a4b",
   "metadata": {},
   "outputs": [],
   "source": [
    "# Sets the syringe diameter of the pump in units of millimeters.\n",
    "pump.syringe_diameter = 30.0"
   ]
  },
  {
   "cell_type": "code",
   "execution_count": null,
   "id": "ac57aa3a",
   "metadata": {},
   "outputs": [],
   "source": []
  },
  {
   "cell_type": "markdown",
   "id": "23613fe4",
   "metadata": {},
   "source": [
    "***Fiddle code for the valvo VICI valve connection***"
   ]
  },
  {
   "cell_type": "code",
   "execution_count": 2,
   "id": "63ab7fc2",
   "metadata": {},
   "outputs": [],
   "source": [
    "import serial\n",
    "import time       \n",
    "import io\n",
    "\n",
    "ser = serial.Serial(port = 'COM18',  #Check your device manager and change the COM port here as needed.\n",
    "                    baudrate = 9600, \n",
    "                    bytesize = serial.EIGHTBITS,  \n",
    "                    parity = serial.PARITY_NONE,   #Establishes a serial connection between valve controller and computer.\n",
    "                    stopbits = serial.STOPBITS_ONE\n",
    "                   )"
   ]
  },
  {
   "cell_type": "code",
   "execution_count": 3,
   "id": "478803fd",
   "metadata": {},
   "outputs": [],
   "source": [
    "def odd_move(): \n",
    "    move = input(\"Please enter the position which you want to move to.\") \n",
    "    allowed = [\"1\",\"2\",\"3\",\"4\",\"5\",\"6\"]   \n",
    "    if move not in allowed:                            #Code checks that the user's input is one of the allowed inputs.\n",
    "        print(\"You must select either 1,3,5,7, or 9!\")            \n",
    "    elif move in allowed:\n",
    "         int(move)\n",
    "         position = f'GO{move}\\r'     #Used f string, and serial \"GO\" command to move valve into user's desired position.\n",
    "         ser.write(position.encode()) #Serial command communicates and \"instructs\" the valve controller to change positions.\n",
    "         time.sleep(1)\n",
    "        \n",
    "         ser.write(b'CP\\r')     #This serial command prints the current position of the valve.\n",
    "         time.sleep(0.2)\n",
    "         _readline()\n",
    "            \n",
    "def _readline(): #Used to ensure readline() end at \\r since readline() function no longer exists in Python 3.x\n",
    "    eol = b'\\r'\n",
    "    leneol = len(eol)\n",
    "    line = bytearray()\n",
    "    while True:\n",
    "        c = ser.read(1)\n",
    "        if c:\n",
    "            line += c\n",
    "            if line[-leneol:] == eol:\n",
    "                break\n",
    "        else:\n",
    "            break\n",
    "    print(bytes(line))\n",
    "    return bytes(line)"
   ]
  },
  {
   "cell_type": "code",
   "execution_count": 5,
   "id": "fa7be789",
   "metadata": {},
   "outputs": [
    {
     "name": "stdout",
     "output_type": "stream",
     "text": [
      "b'CP04\\r'\n"
     ]
    },
    {
     "data": {
      "text/plain": [
       "b'CP04\\r'"
      ]
     },
     "execution_count": 5,
     "metadata": {},
     "output_type": "execute_result"
    }
   ],
   "source": [
    " position = f'GO04\\r'     #Used f string, and serial \"GO\" command to move valve into user's desired position.\n",
    " ser.write(position.encode()) #Serial command communicates and \"instructs\" the valve controller to change positions.\n",
    " time.sleep(1)\n",
    "\n",
    " ser.write(b'CP\\r')     #This serial command prints the current position of the valve.\n",
    " time.sleep(0.2)\n",
    " _readline()"
   ]
  },
  {
   "cell_type": "code",
   "execution_count": null,
   "id": "31fe9880",
   "metadata": {},
   "outputs": [],
   "source": []
  }
 ],
 "metadata": {
  "kernelspec": {
   "display_name": "Python 3 (ipykernel)",
   "language": "python",
   "name": "python3"
  },
  "language_info": {
   "codemirror_mode": {
    "name": "ipython",
    "version": 3
   },
   "file_extension": ".py",
   "mimetype": "text/x-python",
   "name": "python",
   "nbconvert_exporter": "python",
   "pygments_lexer": "ipython3",
   "version": "3.7.11"
  }
 },
 "nbformat": 4,
 "nbformat_minor": 5
}
