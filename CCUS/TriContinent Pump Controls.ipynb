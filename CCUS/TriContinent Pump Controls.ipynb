{
 "cells": [
  {
   "cell_type": "markdown",
   "id": "5f4c3590",
   "metadata": {},
   "source": [
    "## TriContent Pump Controls\n"
   ]
  },
  {
   "cell_type": "markdown",
   "id": "86ef217f",
   "metadata": {},
   "source": [
    "### Importing the necessary modules"
   ]
  },
  {
   "cell_type": "code",
   "execution_count": 1,
   "id": "fb0e6724",
   "metadata": {},
   "outputs": [],
   "source": [
    "import pycont.controller as cont\n",
    "import time\n",
    "import logging"
   ]
  },
  {
   "cell_type": "markdown",
   "id": "64cedbe0",
   "metadata": {},
   "source": [
    "### Loading the configuration file"
   ]
  },
  {
   "cell_type": "code",
   "execution_count": 2,
   "id": "8d84a37f",
   "metadata": {},
   "outputs": [],
   "source": [
    "logging.basicConfig(level=logging.INFO)\n",
    "setup_config_file = r\"C:\\Users\\uzuno\\Desktop\\Jupyter Notebooks for CCUS\\sampleconfiguration.json\"\n",
    "controller = cont.MultiPumpController.from_configfile(setup_config_file)\n",
    "\n",
    "#initialize the pump - start initialize is to avoid reinitializing, and resetting the pump back to zero position\n",
    "controller.smart_initialize()"
   ]
  },
  {
   "cell_type": "markdown",
   "id": "2453744d",
   "metadata": {},
   "source": [
    "### Withdrawing liquid\n",
    "The following function allows the pump to go to a certain volume. The volumes indicated are in mL. "
   ]
  },
  {
   "cell_type": "code",
   "execution_count": 13,
   "id": "02945f00",
   "metadata": {},
   "outputs": [],
   "source": [
    "def go_to_volume():\n",
    "    \"\"\"\n",
    "    This function moves the pump to the desired volume in mL\n",
    "    \n",
    "    wait attribute is set to True to ensure that the function\n",
    "    returns only after the pump is done moving\n",
    "    \"\"\"\n",
    "    \n",
    "    #chech if the pump is already in the required position\n",
    "    #note that VALVE_INPUT is a global defined variable for\n",
    "    if controller.pumps['water'].get_valve_position() == cont.VALVE_INPUT:\n",
    "        print(\"The valve is already in this position\")\n",
    "        return None\n",
    "    else:\n",
    "        controller.pumps['water'].go_to_volume(1, wait=True)\n",
    "    \n",
    "    #the volume can be asked as an iquiry to the user \n",
    "    #if necessary or hard coded to the script\n",
    "    if __name__ == \"__go_to_volume__\":\n",
    "        go_to_volume()"
   ]
  },
  {
   "cell_type": "markdown",
   "id": "c776c017",
   "metadata": {},
   "source": [
    "### Delivering the liquid\n",
    "The following function delivers the volume specified. It first checks if the volume is deliverable or not. "
   ]
  },
  {
   "cell_type": "code",
   "execution_count": 14,
   "id": "e49d1f79",
   "metadata": {},
   "outputs": [],
   "source": [
    "def deliver_volume():\n",
    "    \"\"\"\n",
    "    This function moves the pump to the desired volume in mL\n",
    "    \n",
    "    wait attribute is set to True to ensure that the function\n",
    "    returns only after the pump is done moving\n",
    "    \"\"\"\n",
    "    controller.pumps['water'].deliver(1.5, wait=True)\n",
    "    \n",
    "    #the volume can be asked as an iquiry to the user \n",
    "    #if necessary or hard coded to the script\n",
    "    if __name__ == \"__deliver_volume__\":\n",
    "        deliver_volume()"
   ]
  },
  {
   "cell_type": "code",
   "execution_count": null,
   "id": "b72a04cf",
   "metadata": {},
   "outputs": [],
   "source": [
    "\n",
    "\n",
    "# and those function tells you is the action what feasible or not\n",
    "succeed = controller.pumps['water'].pump(1000, wait=True)\n",
    "if succeed:\n",
    "    print('How could you pump 1000 mL')\n",
    "else:\n",
    "    print('You cannot pump 1000 mL!')"
   ]
  },
  {
   "cell_type": "markdown",
   "id": "ac46fe57",
   "metadata": {},
   "source": [
    "### Sample JSON Setup file "
   ]
  },
  {
   "cell_type": "code",
   "execution_count": null,
   "id": "7554db2c",
   "metadata": {},
   "outputs": [],
   "source": [
    "#testing with water\n",
    "import json\n",
    "\n",
    "config_dict = {\n",
    "    \"io\":\n",
    "    {\n",
    "        \"port\": \"COM7\",    #check your system\n",
    "        \"baudrate\": 9600,\n",
    "        \"timeout\": 1\n",
    "    },\n",
    "    \"default\":\n",
    "    {\n",
    "        \"volume\": 5,\n",
    "        \"micro_step_mode\": 2,\n",
    "        \"top_velocity\": 5000,\n",
    "        \"initialize_valve_position\": \"I\"\n",
    "    },\n",
    "    \"groups\":\n",
    "    {\n",
    "        \"chemicals\": [\"water\"]\n",
    "    },\n",
    "    \"pumps\":\n",
    "    {\n",
    "        \"water\":\n",
    "        {\n",
    "            \"switch\": \"5\"\n",
    "        }\n",
    "    }\n",
    "}\n",
    "\n",
    "\n",
    "jsonfile = json.dumps(config_dict, indent=4)\n",
    "\n",
    "with open(\"sampleconfiguration.json\", \"w\") as outfile:\n",
    "    outfile.write(jsonfile)"
   ]
  },
  {
   "cell_type": "code",
   "execution_count": null,
   "id": "a98f63a8",
   "metadata": {},
   "outputs": [],
   "source": [
    "#sample configuration file with multiple chemicals - we will be dealing with CO2 and KHCO3 only\n",
    "{\"default\": \n",
    "   {\"volume\": 5,\n",
    "    \"micro_step_mode\": 2,\n",
    "    \"top_velocity\": 24000,\n",
    "    \"initialize_valve_position\": \"I\"},\n",
    "\n",
    " \"hubs\": [\n",
    "    {\"io\": {\"port\": \"COM7\",\n",
    "            \"baudrate\": 9600,\n",
    "            \"timeout\": 1},\n",
    "     \"pumps\": {\"acetone\": {\"switch\": \"0\"},\n",
    "               \"water\": {\"switch\": \"1\", \"top_velocity\": 12000}\n",
    "               }\n",
    "    },\n",
    "    {\"io\": {\"port\": \"COM7\",\n",
    "            \"baudrate\": 9600,\n",
    "            \"timeout\": 1},\n",
    "     \"pumps\": {\"pentanol\": {\"switch\": \"0\"}}\n",
    "    }\n",
    "  ],\n",
    "  \"groups\": {\n",
    "    \"chemicals\": [\"acetone\", \"water\"],\n",
    "    \"oils\": [\"pentanol\"]\n",
    "  }\n",
    "}  "
   ]
  },
  {
   "cell_type": "code",
   "execution_count": 16,
   "id": "ed960f25",
   "metadata": {},
   "outputs": [
    {
     "ename": "SyntaxError",
     "evalue": "invalid syntax (244262221.py, line 1)",
     "output_type": "error",
     "traceback": [
      "\u001b[1;36m  File \u001b[1;32m\"C:\\Users\\uzuno\\AppData\\Local\\Temp\\1\\ipykernel_27576\\244262221.py\"\u001b[1;36m, line \u001b[1;32m1\u001b[0m\n\u001b[1;33m    pycont.controller.C3000Controller(pump_io: ,\u001b[0m\n\u001b[1;37m                                             ^\u001b[0m\n\u001b[1;31mSyntaxError\u001b[0m\u001b[1;31m:\u001b[0m invalid syntax\n"
     ]
    }
   ],
   "source": [
    "pycont.controller.C3000Controller(pump_io: ,\n",
    "    name: 'TCP',\n",
    "    address: 'COM7',\n",
    "    total_volume: 3.0,\n",
    "    micro_step_mode: int = 2,\n",
    "    top_velocity: int = 6000,\n",
    "    initialize_valve_position: str = 'I')\n",
    "\n"
   ]
  },
  {
   "cell_type": "code",
   "execution_count": null,
   "id": "07befea5",
   "metadata": {},
   "outputs": [],
   "source": [
    "\n"
   ]
  },
  {
   "cell_type": "code",
   "execution_count": null,
   "id": "1d203746",
   "metadata": {},
   "outputs": [],
   "source": []
  }
 ],
 "metadata": {
  "kernelspec": {
   "display_name": "Python 3 (ipykernel)",
   "language": "python",
   "name": "python3"
  },
  "language_info": {
   "codemirror_mode": {
    "name": "ipython",
    "version": 3
   },
   "file_extension": ".py",
   "mimetype": "text/x-python",
   "name": "python",
   "nbconvert_exporter": "python",
   "pygments_lexer": "ipython3",
   "version": "3.9.13"
  }
 },
 "nbformat": 4,
 "nbformat_minor": 5
}
