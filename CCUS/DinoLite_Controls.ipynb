{
 "cells": [
  {
   "cell_type": "markdown",
   "id": "5574d4ef",
   "metadata": {},
   "source": [
    "# Controlling the DinoLite Edge Digital Microscope using OpenCV\n"
   ]
  },
  {
   "cell_type": "markdown",
   "id": "5d96263c",
   "metadata": {},
   "source": [
    "This Notebook is to control a Dino Lite Edge Camera (or any other webcam camera plugged to your computer) remotely. Fruther instruction are provided about each cell below. OpenCV was used to connect to the Digital Microscope, treating as a webcam and the image captured can be saved locally or to another location and it is also outputted in this notebook for testing purposes of the user. \n",
    "\n",
    "Notes on methods used with openCV:\n",
    " - imshow: show image\n",
    " - imwrite: save image in the same path as the notebook locally, can specify the title as an attribute (photo = cv2.imwrite ('Photo.jpg', frame))\n",
    " - imread: read image and output the arrays corresponding (photo = cv2.imread(cv2.imread_grayscale), to output gray scale)"
   ]
  },
  {
   "cell_type": "markdown",
   "id": "3151b394",
   "metadata": {},
   "source": [
    "### Importing all the necessary libraries\n",
    "OpenCV and Matplotlib is imported in order to see the captures as an output in this notebook"
   ]
  },
  {
   "cell_type": "code",
   "execution_count": null,
   "id": "eb975240",
   "metadata": {},
   "outputs": [],
   "source": [
    "#import opencv to connect to the camera as a webcam\n",
    "import cv2\n",
    "import os\n",
    "import time\n",
    "\n",
    "import numpy as np\n",
    "#import matplotlib to output the visuals captured\n",
    "from matplotlib import pyplot as plt"
   ]
  },
  {
   "cell_type": "markdown",
   "id": "b513bd6d",
   "metadata": {},
   "source": [
    "### Connect to the external camera"
   ]
  },
  {
   "cell_type": "code",
   "execution_count": null,
   "id": "832e044f",
   "metadata": {},
   "outputs": [],
   "source": [
    "cap = cv2.VideoCapture(1) # 1 for DinoLite camera (might need to check different values to find the right one\n",
    "                          # where 0 is allocated for the intrernal front camera)"
   ]
  },
  {
   "cell_type": "markdown",
   "id": "2996b7bd",
   "metadata": {},
   "source": [
    "### Check for errors connecting to the camera\n",
    "raise input/output error if the kernel cannot find an exernal camera to connect to. If no error is raised proceed with the cells below"
   ]
  },
  {
   "cell_type": "code",
   "execution_count": null,
   "id": "0fde639c",
   "metadata": {},
   "outputs": [],
   "source": [
    "if not cap.isOpened():\n",
    "    raise IOError(\"Cannot access the camera - make sure that the port is open/it is plugged in\")\n",
    "\n",
    "(ret, frame) = cap.read() # return a boolean (success flag) and an array corresponding to the color values of the frame you captured\n",
    "print (ret) # checking the success flag \"True\"\n",
    "#print(frame) #to check the array of the color values for each pixel in the frame\n"
   ]
  },
  {
   "cell_type": "markdown",
   "id": "b2caa2f7",
   "metadata": {},
   "source": [
    "### Capturing images and saving them in a sequential manner\n",
    "\n",
    "the function below captures the real time photo, prints image captured if successful and saves it in a file in directory that cn be specified in the variable path in incrementing names (i.e. Capture1.jpg Capture2.jpg etc...)"
   ]
  },
  {
   "cell_type": "code",
   "execution_count": null,
   "id": "b076332e",
   "metadata": {},
   "outputs": [],
   "source": [
    "path = r\"C:\\Users\\uzuno\\Desktop\\Test DinoLite Captures\" # will define this in the main for the target directory\n",
    "\n",
    "def takephoto(path):\n",
    "    \n",
    "    \"\"\"\n",
    "    This function takes a picture of the frame and saves it\n",
    "    to the specified local path. The file name is in the form Capturea.jpg\n",
    "    where a is the smaple test number. This is a required parameter for the function.\n",
    "    \"\"\"\n",
    "\n",
    "    cap = cv2.VideoCapture(1)\n",
    "\n",
    "    for i in range(50): #depending on how many experiments will be run\n",
    "        ret, frame = cap.read()\n",
    "        cv2.imwrite(os.path.join(path, 'capture' + str(i) + '.jpg'), frame)\n",
    "        \n",
    "        print('image captured')\n",
    "        time.sleep(10) #will need to figure out the timing in between captures\n",
    "\n",
    "    cap.release()\n",
    "    #time.sleep( minutes it takes to replce the gdl)\n"
   ]
  },
  {
   "cell_type": "markdown",
   "id": "5226ce99",
   "metadata": {},
   "source": [
    "### Run the cell below to disconnect from the camera"
   ]
  },
  {
   "cell_type": "code",
   "execution_count": null,
   "id": "9cd9beb6",
   "metadata": {},
   "outputs": [],
   "source": [
    "def disconnect():\n",
    "    cap.release()\n",
    "    print('disconnected')\n",
    "\n",
    "disconnect()"
   ]
  },
  {
   "cell_type": "markdown",
   "id": "622baff8",
   "metadata": {},
   "source": [
    "### Sample calculations to quantify the amount of gold deposited on the GDL samples\n",
    "The algorithm below treats white pixels as pixels with gold and black ones as GDL with nothing deposited on it. Can implemet a nested for loop to iterate through all pixels and get accurate color measurements if necessary. HSL (Hue, Saturation, Lightness) values can be used to get color values for the pixels."
   ]
  },
  {
   "cell_type": "code",
   "execution_count": null,
   "id": "e8912eb7",
   "metadata": {},
   "outputs": [],
   "source": [
    "def quantifygold():\n",
    "    \"\"\"\n",
    "    This function outputs the percentage of non black and white pixels in the image provided in the pathway\n",
    "    in order to quantify the amount of gold deposited on a GDL. \n",
    "    \"\"\"\n",
    "    path = input('please input the path for the image you are trying to analyze:')\n",
    "    if type (path) != str:\n",
    "        return None\n",
    "    else:\n",
    "        img = cv2.imread(path) #0 for grayscale, 1 for color\n",
    "        plt.imshow(img) \n",
    "        \n",
    "        print('image shape: ' + str(img.shape))\n",
    "        number_of_white_pix = np.sum(img == 255) #255 represents white pixels in the array when the image is in RGB\n",
    "        number_of_black_pix = np.sum(img == 0) #0 is black value\n",
    "        print('Number of white pixels:', number_of_white_pix)\n",
    "        print('Number of black pixels:', number_of_black_pix)\n",
    "\n",
    "        non_bw_pixels = img.size - number_of_white_pix - number_of_black_pix\n",
    "\n",
    "        gold_dep = (non_bw_pixels/img.size)*100\n",
    "        non_gold = ((number_of_white_pix + number_of_black_pix)/img.size)*100\n",
    "\n",
    "        print('the percentage of pixels with gold deposited in this frame: ' + str(gold_dep) + ' %')\n",
    "        print('the percentage of pixels without gold deposited in this frame: ' + str(non_gold) + ' %')\n",
    "        print('checking:' + str (gold_dep + non_gold) + ' %')\n",
    "        \n",
    "        return None\n"
   ]
  },
  {
   "cell_type": "code",
   "execution_count": null,
   "id": "546a9031",
   "metadata": {},
   "outputs": [],
   "source": [
    "quantifygold()"
   ]
  },
  {
   "cell_type": "markdown",
   "id": "f97512be",
   "metadata": {},
   "source": [
    "The cells below are for applying the same thinking to different color scales (BGR and GRAY). The code analyzes the real time image captured by the camera connected for now but a path for a picture can be easily integrated by following a similar approach outlined in the function defininiton above."
   ]
  },
  {
   "cell_type": "code",
   "execution_count": null,
   "id": "9e9fc8a2",
   "metadata": {},
   "outputs": [],
   "source": [
    "#path = r'C:\\Users\\uzuno\\Desktop\\testdino.jpg'\n",
    "\n",
    "#img=cv2.cvtColor(cv2.imread(r'C:\\Users\\uzuno\\Desktop\\testdino.jpg', 1),cv2.COLOR_BGR2RGB)\n",
    "\n",
    "#note that the image exported is BGR, the path name can be split up so that all files can be \n",
    "#iterated and results can be saved\n",
    "\n",
    "img = cv2.imread(r\"C:\\Users\\uzuno\\Desktop\\Test DinoLite Captures\\capture2.jpg\") #0 for grayscale, 1 for color\n",
    "plt.imshow(img) \n",
    "\n",
    "print('image shape: ' + str(img.shape))\n",
    "\n",
    "number_of_white_pix = np.sum(img == 255) #255 represents white pixels in the array when the image is in RGB\n",
    "number_of_black_pix = np.sum(img == 0) #0 is black value\n",
    "print('Number of white pixels:', number_of_white_pix)\n",
    "print('Number of black pixels:', number_of_black_pix)\n",
    "\n",
    "\n",
    "\n",
    "non_bw_pixels = img.size - number_of_white_pix - number_of_black_pix\n",
    "\n",
    "gold_dep = (non_bw_pixels/img.size)*100\n",
    "non_gold = ((number_of_white_pix + number_of_black_pix)/img.size)*100\n",
    "\n",
    "print('the percentage of pixels with gold deposited in this frame: ' + str(gold_dep) + ' %')\n",
    "print('the percentage of pixels without gold deposited in this frame: ' + str(non_gold) + ' %')\n",
    "print('checking:' + str (gold_dep + non_gold) + ' %')\n",
    "\n",
    "\n",
    "#note that the pixel numbers vary depending on if the image is in RGB/BGR or in Gray scale. \n",
    "#note that the percentage of non black white pixels for diferent images from the same GDL yield close values: [77,79]"
   ]
  },
  {
   "cell_type": "code",
   "execution_count": null,
   "id": "2f116cc8",
   "metadata": {},
   "outputs": [],
   "source": [
    "#ORIGINAL (RGB)\n",
    "\n",
    "RGB = cv2.cvtColor(img, cv2.COLOR_BGR2RGB)\n",
    "plt.imshow(RGB)\n",
    "\n",
    "number_of_white_pix = np.sum(RGB == 255) #255 represents white pixels in the array when the image is in RGB\n",
    "number_of_black_pix = np.sum(RGB == 0) #0 is black value\n",
    "print('Number of white pixels:', number_of_white_pix)\n",
    "print('Number of black pixels:', number_of_black_pix)\n",
    "\n",
    "\n",
    "\n",
    "non_bw_pixels = img.size - number_of_white_pix - number_of_black_pix\n",
    "\n",
    "gold_dep = (non_bw_pixels/img.size)*100\n",
    "non_gold = ((number_of_white_pix + number_of_black_pix)/img.size)*100\n",
    "\n",
    "print('the percentage of pixels with gold deposited in this frame: ' + str(gold_dep) + ' %')\n",
    "print('the percentage of pixels without gold deposited in this frame: ' + str(non_gold) + ' %')\n",
    "print('checking:' + str (gold_dep + non_gold) + ' %')"
   ]
  },
  {
   "cell_type": "code",
   "execution_count": null,
   "id": "c29102d0",
   "metadata": {},
   "outputs": [],
   "source": [
    "#GRAY SCALE version of the code above\n",
    "\n",
    "gray = cv2.cvtColor(img, cv2.COLOR_BGR2GRAY)\n",
    "plt.imshow(gray)\n",
    "\n",
    "number_of_white_pix = np.sum(gray == 255) #255 represents white pixels in the array when the image is in RGB\n",
    "number_of_black_pix = np.sum(gray == 0) #0 is black value\n",
    "print('Number of white pixels:', number_of_white_pix)\n",
    "print('Number of black pixels:', number_of_black_pix)\n",
    "\n",
    "\n",
    "\n",
    "non_bw_pixels = img.size - number_of_white_pix - number_of_black_pix\n",
    "\n",
    "gold_dep = (non_bw_pixels/img.size)*100\n",
    "non_gold = ((number_of_white_pix + number_of_black_pix)/img.size)*100\n",
    "\n",
    "print('the percentage of pixels with gold deposited in this frame: ' + str(gold_dep) + ' %')\n",
    "print('the percentage of pixels without gold deposited in this frame: ' + str(non_gold) + ' %')\n",
    "print('checking:' + str (gold_dep + non_gold) + ' %')"
   ]
  },
  {
   "cell_type": "markdown",
   "id": "bdee7440",
   "metadata": {},
   "source": [
    "### Concatenation of images to analyze a greater surface area\n",
    "\n",
    "https://note.nkmk.me/en/python-pillow-concat-images/ - check this website, if decided, multiple images of the surface can be taken by moving the camera/the slide underneatha and all the images can be concatenated since they are of the same size."
   ]
  }
 ],
 "metadata": {
  "kernelspec": {
   "display_name": "Python 3.9.13 ('CCUS_MAP')",
   "language": "python",
   "name": "python3"
  },
  "language_info": {
   "codemirror_mode": {
    "name": "ipython",
    "version": 3
   },
   "file_extension": ".py",
   "mimetype": "text/x-python",
   "name": "python",
   "nbconvert_exporter": "python",
   "pygments_lexer": "ipython3",
   "version": "3.9.13"
  },
  "vscode": {
   "interpreter": {
    "hash": "aaa1ecec86f523cae574774f0c33eecb1292a42f0db9dbeb59c81e008293f501"
   }
  }
 },
 "nbformat": 4,
 "nbformat_minor": 5
}
