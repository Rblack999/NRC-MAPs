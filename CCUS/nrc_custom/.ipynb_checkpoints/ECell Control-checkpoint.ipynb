{
 "cells": [
  {
   "cell_type": "code",
   "execution_count": 3,
   "metadata": {},
   "outputs": [],
   "source": [
    "from Ecell_package import ECell"
   ]
  },
  {
   "cell_type": "code",
   "execution_count": 2,
   "metadata": {},
   "outputs": [
    {
     "name": "stdout",
     "output_type": "stream",
     "text": [
      "True\n"
     ]
    }
   ],
   "source": [
    "depo_cell = ECell('deposition','COM4')"
   ]
  },
  {
   "cell_type": "code",
   "execution_count": 3,
   "metadata": {},
   "outputs": [
    {
     "name": "stdout",
     "output_type": "stream",
     "text": [
      "Sent\n",
      "Received\n",
      "b'\\x10\\x02\\x88\\x00\\x1a\\x08\\x00\\x00\\x00\\x00\\x00\\x00\\x00\\x99 \\x00\\x00\\xff\\x00\\x00\\x00d\\x00\\xa5\\xa0\\x1d'\n"
     ]
    }
   ],
   "source": [
    "depo_cell.set_up_deposition()"
   ]
  },
  {
   "cell_type": "code",
   "execution_count": 4,
   "metadata": {},
   "outputs": [
    {
     "name": "stdout",
     "output_type": "stream",
     "text": [
      "Sent\n",
      "Received\n",
      "b'\\x10\\x02\\x88\\x00\\x1a\\x08\\x00\\x00\\x00\\x00\\x00\\x00\\x00\\x99 \\x00\\x00\\xff\\x00\\x00\\x00d\\x00\\xa5\\xa0\\x1d'\n",
      "Sent\n"
     ]
    }
   ],
   "source": [
    "depo_cell.cell_close_slide()"
   ]
  },
  {
   "cell_type": "code",
   "execution_count": 2,
   "metadata": {},
   "outputs": [
    {
     "name": "stdout",
     "output_type": "stream",
     "text": [
      "True\n"
     ]
    }
   ],
   "source": [
    "char_cell = ECell('characterization','COM4')"
   ]
  },
  {
   "cell_type": "code",
   "execution_count": 3,
   "metadata": {},
   "outputs": [
    {
     "name": "stdout",
     "output_type": "stream",
     "text": [
      "Currently connected to cell characterization\n"
     ]
    }
   ],
   "source": [
    "char_cell.check_ID()"
   ]
  },
  {
   "cell_type": "code",
   "execution_count": null,
   "metadata": {},
   "outputs": [
    {
     "name": "stdout",
     "output_type": "stream",
     "text": [
      "Sent\n",
      "Received\n"
     ]
    }
   ],
   "source": [
    "char_cell.set_up_characterization()"
   ]
  },
  {
   "cell_type": "code",
   "execution_count": null,
   "metadata": {},
   "outputs": [],
   "source": []
  },
  {
   "cell_type": "code",
   "execution_count": 1,
   "metadata": {},
   "outputs": [
    {
     "name": "stdout",
     "output_type": "stream",
     "text": [
      "True\n"
     ]
    }
   ],
   "source": [
    "import serial\n",
    "import struct\n",
    "import time\n",
    "\n",
    "ser = serial.Serial(\n",
    "    port='COM4',\n",
    "    baudrate=115200,\n",
    "    parity=serial.PARITY_NONE,\n",
    "    stopbits=serial.STOPBITS_ONE,\n",
    "    bytesize=serial.EIGHTBITS\n",
    ")\n",
    "print(ser.isOpen())"
   ]
  },
  {
   "cell_type": "code",
   "execution_count": 2,
   "metadata": {},
   "outputs": [],
   "source": [
    "# ---------------------------------------------------------------------------------\n",
    "\n",
    "# Commands\n",
    "command_GetVersion_Query = b'\\x10\\x02\\x00\\x88\\x07\\x01\\xA2'\n",
    "\n",
    "command_StepperSlider_Deposit_Set = b'\\x10\\x02\\x00\\x88\\x08\\x0c\\x00\\xAE'\n",
    "command_StepperSlider_Character_Set = b'\\x10\\x02\\x00\\x88\\x08\\x0c\\x01\\xAF'\n",
    "command_TravelSettings_BothSafe_Set = b'\\x10\\x02\\x00\\x88\\x1A\\x07\\x00\\x00\\x00\\x00\\x00\\x00\\x00\\x88\\xb8\\x00\\x00\\xff\\x00\\x00\\x00\\x64\\x00\\x9c\\x40\\x3a'\n",
    "command_TravelSettings_Character_Set = b'\\x10\\x02\\x00\\x88\\x1A\\x07\\x00\\x00\\x00\\x00\\x00\\x00\\x00\\x9E\\x98\\x00\\x00\\xff\\x00\\x00\\x00\\x64\\x00\\xAB\\x18\\x17'\n",
    "command_TravelSettings_Deposit_Set = b'\\x10\\x02\\x00\\x88\\x1A\\x07\\x00\\x00\\x00\\x00\\x00\\x00\\x00\\x99\\x20\\x00\\x00\\xff\\x00\\x00\\x00\\x64\\x00\\xA5\\xA0\\x1c'\n",
    "\n",
    "command_MoveCommand_JogPlus_Exe = b'\\x10\\x02\\x00\\x88\\x08\\x04\\x10\\xB6'\n",
    "command_MoveCommand_JogMinus_Exe = b'\\x10\\x02\\x00\\x88\\x08\\x04\\x20\\xC6'\n",
    "command_MoveCommand_Stop_Exe = b'\\x10\\x02\\x00\\x88\\x08\\x04\\x02\\xa8'\n",
    "command_MoveCommand_Home_Exe = b'\\x10\\x02\\x00\\x88\\x08\\x04\\x04\\xaa'\n",
    "command_MoveCommand_PinSlide_Exe = b'\\x10\\x02\\x00\\x88\\x08\\x04\\x08\\xae'\n",
    "command_MoveCommand_FullClose_Exe = b'\\x10\\x02\\x00\\x88\\x08\\x04\\x40\\xe6'\n",
    "\n",
    "# ---------------------------------------------------------------------------------\n",
    "\n",
    "# Tuple couplings\n",
    "tuple_GetVersion_Query = (command_GetVersion_Query, 11) # x0B\n",
    "\n",
    "tuple_StepperSlider_Deposit_Set = (command_StepperSlider_Deposit_Set, 0)\n",
    "tuple_StepperSlider_Character_Set = (command_StepperSlider_Character_Set, 0)\n",
    "tuple_TravelSettings_BothSafe_Set = (command_TravelSettings_BothSafe_Set, 26) # x1A\n",
    "tuple_TravelSettings_Character_Set = (command_TravelSettings_Character_Set, 26) # x1A\n",
    "command_TravelSettings_Deposit_Set = (command_TravelSettings_Deposit_Set, 26) # x1A\n",
    "\n",
    "tuple_Command_MoveCommand_JogPlus_Exe = (command_MoveCommand_JogPlus_Exe, 0)\n",
    "tuple_Command_MoveCommand_JogMinus_Exe = (command_MoveCommand_JogMinus_Exe, 0)\n",
    "tuple_MoveCommand_Stop_Exe = (command_MoveCommand_Stop_Exe, 0)\n",
    "command_MoveCommand_Home_Exe = (command_MoveCommand_Home_Exe, 0)\n",
    "\n",
    "command_MoveCommand_PinSlide_Exe = (command_MoveCommand_PinSlide_Exe, 0)\n",
    "command_MoveCommand_FullClose_Exe = (command_MoveCommand_FullClose_Exe, 0)\n",
    "\n",
    "# ---------------------------------------------------------------------------------"
   ]
  },
  {
   "cell_type": "code",
   "execution_count": 3,
   "metadata": {},
   "outputs": [
    {
     "name": "stdout",
     "output_type": "stream",
     "text": [
      "Sent\n"
     ]
    }
   ],
   "source": [
    "data = tuple_StepperSlider_Deposit_Set\n",
    "\n",
    "ser.write(data[0])\n",
    "if(data[1] != 0):\n",
    "    print(\"Received\")\n",
    "    s = ser.read(data[1])\n",
    "    print(s)\n",
    "else:\n",
    "    print(\"Sent\")\n",
    "\n",
    "time.sleep(1)  # Critical sleep delay for transmission latency"
   ]
  },
  {
   "cell_type": "code",
   "execution_count": 5,
   "metadata": {},
   "outputs": [
    {
     "name": "stdout",
     "output_type": "stream",
     "text": [
      "Received\n",
      "b'\\x10\\x02\\x88\\x00\\x1a\\x08\\x00\\x00\\x00\\x00\\x00\\x00\\x00\\x99 \\x00\\x00\\xff\\x00\\x00\\x00d\\x00\\xa5\\xa0\\x1d'\n"
     ]
    }
   ],
   "source": [
    "data = command_TravelSettings_Deposit_Set\n",
    "\n",
    "ser.write(data[0])\n",
    "if(data[1] != 0):\n",
    "    print(\"Received\")\n",
    "    s = ser.read(data[1])\n",
    "    print(s)\n",
    "else:\n",
    "    print(\"Sent\")\n",
    "\n",
    "time.sleep(1)  # Critical sleep delay for transmission latency"
   ]
  },
  {
   "cell_type": "code",
   "execution_count": 8,
   "metadata": {},
   "outputs": [
    {
     "name": "stdout",
     "output_type": "stream",
     "text": [
      "Sent\n"
     ]
    }
   ],
   "source": [
    "data = command_MoveCommand_Home_Exe\n",
    "ser.write(data[0])\n",
    "if(data[1] != 0):\n",
    "    print(\"Received\")\n",
    "    s = ser.read(data[1])\n",
    "    print(s)\n",
    "else:\n",
    "    print(\"Sent\")\n",
    "\n",
    "time.sleep(1)  # Critical sleep delay for transmission latency"
   ]
  },
  {
   "cell_type": "code",
   "execution_count": null,
   "metadata": {},
   "outputs": [
    {
     "name": "stdout",
     "output_type": "stream",
     "text": [
      "True\n",
      "Sent\n",
      "Received\n"
     ]
    }
   ],
   "source": [
    "import serial\n",
    "import struct\n",
    "import time\n",
    "\n",
    "ser = serial.Serial(\n",
    "    port='COM4',\n",
    "    baudrate=115200,\n",
    "    parity=serial.PARITY_NONE,\n",
    "    stopbits=serial.STOPBITS_ONE,\n",
    "    bytesize=serial.EIGHTBITS\n",
    ")\n",
    "print(ser.isOpen())\n",
    "\n",
    "# ---------------------------------------------------------------------------------\n",
    "\n",
    "# Commands\n",
    "command_GetVersion_Query = b'\\x10\\x02\\x00\\x88\\x07\\x01\\xA2'\n",
    "\n",
    "command_StepperSlider_Deposit_Set = b'\\x10\\x02\\x00\\x88\\x08\\x0c\\x00\\xAE'\n",
    "command_StepperSlider_Character_Set = b'\\x10\\x02\\x00\\x88\\x08\\x0c\\x01\\xAF'\n",
    "command_TravelSettings_BothSafe_Set = b'\\x10\\x02\\x00\\x88\\x1A\\x07\\x00\\x00\\x00\\x00\\x00\\x00\\x00\\x88\\xb8\\x00\\x00\\xff\\x00\\x00\\x00\\x64\\x00\\x9c\\x40\\x3a'\n",
    "command_TravelSettings_Character_Set = b'\\x10\\x02\\x00\\x88\\x1A\\x07\\x00\\x00\\x00\\x00\\x00\\x00\\x00\\x9E\\x98\\x00\\x00\\xff\\x00\\x00\\x00\\x64\\x00\\xAB\\x18\\x17'\n",
    "command_TravelSettings_Deposit_Set = b'\\x10\\x02\\x00\\x88\\x1A\\x07\\x00\\x00\\x00\\x00\\x00\\x00\\x00\\x98\\x20\\x00\\x00\\xff\\x00\\x00\\x00\\x64\\x00\\xA5\\xA0\\x1c'\n",
    "\n",
    "command_MoveCommand_JogPlus_Exe = b'\\x10\\x02\\x00\\x88\\x08\\x04\\x10\\xB6'\n",
    "command_MoveCommand_JogMinus_Exe = b'\\x10\\x02\\x00\\x88\\x08\\x04\\x20\\xC6'\n",
    "command_MoveCommand_Stop_Exe = b'\\x10\\x02\\x00\\x88\\x08\\x04\\x02\\xa8'\n",
    "command_MoveCommand_Home_Exe = b'\\x10\\x02\\x00\\x88\\x08\\x04\\x04\\xaa'\n",
    "command_MoveCommand_PinSlide_Exe = b'\\x10\\x02\\x00\\x88\\x08\\x04\\x08\\xae'\n",
    "command_MoveCommand_FullClose_Exe = b'\\x10\\x02\\x00\\x88\\x08\\x04\\x40\\xe6'\n",
    "\n",
    "# ---------------------------------------------------------------------------------\n",
    "\n",
    "# Tuple couplings\n",
    "tuple_GetVersion_Query = (command_GetVersion_Query, 11) # x0B\n",
    "\n",
    "tuple_StepperSlider_Deposit_Set = (command_StepperSlider_Deposit_Set, 0)\n",
    "tuple_StepperSlider_Character_Set = (command_StepperSlider_Character_Set, 0)\n",
    "tuple_TravelSettings_BothSafe_Set = (command_TravelSettings_BothSafe_Set, 26) # x1A\n",
    "tuple_TravelSettings_Character_Set = (command_TravelSettings_Character_Set, 26) # x1A\n",
    "command_TravelSettings_Deposit_Set = (command_TravelSettings_Deposit_Set, 26) # x1A\n",
    "\n",
    "tuple_Command_MoveCommand_JogPlus_Exe = (command_MoveCommand_JogPlus_Exe, 0)\n",
    "tuple_Command_MoveCommand_JogMinus_Exe = (command_MoveCommand_JogMinus_Exe, 0)\n",
    "tuple_MoveCommand_Stop_Exe = (command_MoveCommand_Stop_Exe, 0)\n",
    "tuple_MoveCommand_Home_Exe = (command_MoveCommand_Home_Exe, 0)\n",
    "\n",
    "tuple_command_MoveCommand_PinSlide_Exe = (command_MoveCommand_PinSlide_Exe, 0)\n",
    "command_MoveCommand_FullClose_Exe = (command_MoveCommand_FullClose_Exe, 0)\n",
    "\n",
    "# ---------------------------------------------------------------------------------\n",
    "\n",
    "data = tuple_StepperSlider_Character_Set\n",
    "\n",
    "ser.write(data[0])\n",
    "if(data[1] != 0):\n",
    "    print(\"Received\")\n",
    "    s = ser.read(data[1])\n",
    "    print(s)\n",
    "else:\n",
    "    print(\"Sent\")\n",
    "\n",
    "time.sleep(1)  # Critical sleep delay for transmission latency\n",
    "\n",
    "data = command_MoveCommand_PinSlide_Exe\n",
    "\n",
    "ser.write(data[0])\n",
    "if (data[1] != 0):\n",
    "    print(\"Received\")\n",
    "    s = ser.read(data[1])\n",
    "    print(s)\n",
    "else:\n",
    "    print(\"Sent\")\n",
    "\n",
    "ser.close()\n",
    "\n"
   ]
  },
  {
   "cell_type": "code",
   "execution_count": null,
   "metadata": {},
   "outputs": [],
   "source": []
  },
  {
   "cell_type": "code",
   "execution_count": 9,
   "metadata": {},
   "outputs": [
    {
     "data": {
      "text/plain": [
       "40601"
      ]
     },
     "execution_count": 9,
     "metadata": {},
     "output_type": "execute_result"
    }
   ],
   "source": [
    "int(0x9E99)"
   ]
  },
  {
   "cell_type": "code",
   "execution_count": 30,
   "metadata": {},
   "outputs": [
    {
     "name": "stdout",
     "output_type": "stream",
     "text": [
      "0xa028\n",
      "0xaca8\n"
     ]
    }
   ],
   "source": [
    "#Char Settings Slide/Full Close\n",
    "print(hex(41000))\n",
    "print(hex(44200))"
   ]
  },
  {
   "cell_type": "code",
   "execution_count": 16,
   "metadata": {},
   "outputs": [
    {
     "name": "stdout",
     "output_type": "stream",
     "text": [
      "0x9920\n",
      "0xa5a0\n"
     ]
    }
   ],
   "source": [
    "#Char Settings Slide/Full Close\n",
    "print(hex(39200))\n",
    "print(hex(42400))"
   ]
  },
  {
   "cell_type": "code",
   "execution_count": 22,
   "metadata": {},
   "outputs": [
    {
     "ename": "NameError",
     "evalue": "name 'set_up_deposition' is not defined",
     "output_type": "error",
     "traceback": [
      "\u001b[1;31m---------------------------------------------------------------------------\u001b[0m",
      "\u001b[1;31mNameError\u001b[0m                                 Traceback (most recent call last)",
      "\u001b[1;32m<ipython-input-22-fdbf0a96f199>\u001b[0m in \u001b[0;36m<module>\u001b[1;34m\u001b[0m\n\u001b[1;32m----> 1\u001b[1;33m \u001b[0mdepo_cell\u001b[0m\u001b[1;33m.\u001b[0m\u001b[0mcell_open\u001b[0m\u001b[1;33m(\u001b[0m\u001b[1;33m)\u001b[0m\u001b[1;33m\u001b[0m\u001b[1;33m\u001b[0m\u001b[0m\n\u001b[0m",
      "\u001b[1;32m~\\Documents\\NRC_EMAP\\NorthIDE\\NorthIDE\\Lib\\site-packages\\nrc_custom\\Ecell_package.py\u001b[0m in \u001b[0;36mcell_open\u001b[1;34m(self)\u001b[0m\n\u001b[0;32m    127\u001b[0m \u001b[1;33m\u001b[0m\u001b[0m\n\u001b[0;32m    128\u001b[0m         \u001b[1;32mif\u001b[0m \u001b[0mself\u001b[0m\u001b[1;33m.\u001b[0m\u001b[0mcell_name\u001b[0m \u001b[1;33m==\u001b[0m \u001b[1;34m'deposition'\u001b[0m\u001b[1;33m:\u001b[0m\u001b[1;33m\u001b[0m\u001b[1;33m\u001b[0m\u001b[0m\n\u001b[1;32m--> 129\u001b[1;33m \u001b[1;33m\u001b[0m\u001b[0m\n\u001b[0m\u001b[0;32m    130\u001b[0m             \u001b[0mset_up_deposition\u001b[0m\u001b[1;33m(\u001b[0m\u001b[1;33m)\u001b[0m \u001b[1;31m#Set up deposition travel settings\u001b[0m\u001b[1;33m\u001b[0m\u001b[1;33m\u001b[0m\u001b[0m\n\u001b[0;32m    131\u001b[0m \u001b[1;33m\u001b[0m\u001b[0m\n",
      "\u001b[1;31mNameError\u001b[0m: name 'set_up_deposition' is not defined"
     ]
    }
   ],
   "source": [
    "depo_cell.cell_open()"
   ]
  },
  {
   "cell_type": "code",
   "execution_count": 24,
   "metadata": {},
   "outputs": [
    {
     "name": "stdout",
     "output_type": "stream",
     "text": [
      "Currently connected to cell deposition\n"
     ]
    }
   ],
   "source": [
    "depo_cell.check_ID()"
   ]
  },
  {
   "cell_type": "code",
   "execution_count": 26,
   "metadata": {},
   "outputs": [
    {
     "ename": "TypeError",
     "evalue": "set_up_deposition() takes 0 positional arguments but 1 was given",
     "output_type": "error",
     "traceback": [
      "\u001b[1;31m---------------------------------------------------------------------------\u001b[0m",
      "\u001b[1;31mTypeError\u001b[0m                                 Traceback (most recent call last)",
      "\u001b[1;32m<ipython-input-26-78525ecfb8ff>\u001b[0m in \u001b[0;36m<module>\u001b[1;34m\u001b[0m\n\u001b[1;32m----> 1\u001b[1;33m \u001b[0mdepo_cell\u001b[0m\u001b[1;33m.\u001b[0m\u001b[0mset_up_deposition\u001b[0m\u001b[1;33m(\u001b[0m\u001b[1;33m)\u001b[0m\u001b[1;33m\u001b[0m\u001b[1;33m\u001b[0m\u001b[0m\n\u001b[0m",
      "\u001b[1;31mTypeError\u001b[0m: set_up_deposition() takes 0 positional arguments but 1 was given"
     ]
    }
   ],
   "source": [
    "depo_cell.set_up_deposition()"
   ]
  },
  {
   "cell_type": "code",
   "execution_count": 28,
   "metadata": {},
   "outputs": [
    {
     "data": {
      "text/plain": [
       "'COM4'"
      ]
     },
     "execution_count": 28,
     "metadata": {},
     "output_type": "execute_result"
    }
   ],
   "source": [
    "depo_cell.com_port"
   ]
  },
  {
   "cell_type": "code",
   "execution_count": 29,
   "metadata": {},
   "outputs": [
    {
     "ename": "AttributeError",
     "evalue": "'ECell' object has no attribute 'close'",
     "output_type": "error",
     "traceback": [
      "\u001b[1;31m---------------------------------------------------------------------------\u001b[0m",
      "\u001b[1;31mAttributeError\u001b[0m                            Traceback (most recent call last)",
      "\u001b[1;32m<ipython-input-29-b430ac9388bf>\u001b[0m in \u001b[0;36m<module>\u001b[1;34m\u001b[0m\n\u001b[1;32m----> 1\u001b[1;33m \u001b[0mdepo_cell\u001b[0m\u001b[1;33m.\u001b[0m\u001b[0mclose\u001b[0m\u001b[1;33m(\u001b[0m\u001b[1;33m)\u001b[0m\u001b[1;33m\u001b[0m\u001b[1;33m\u001b[0m\u001b[0m\n\u001b[0m",
      "\u001b[1;31mAttributeError\u001b[0m: 'ECell' object has no attribute 'close'"
     ]
    }
   ],
   "source": []
  },
  {
   "cell_type": "code",
   "execution_count": null,
   "metadata": {},
   "outputs": [],
   "source": []
  }
 ],
 "metadata": {
  "kernelspec": {
   "display_name": "Python 3",
   "language": "python",
   "name": "python3"
  },
  "language_info": {
   "codemirror_mode": {
    "name": "ipython",
    "version": 3
   },
   "file_extension": ".py",
   "mimetype": "text/x-python",
   "name": "python",
   "nbconvert_exporter": "python",
   "pygments_lexer": "ipython3",
   "version": "3.7.9"
  }
 },
 "nbformat": 4,
 "nbformat_minor": 4
}
