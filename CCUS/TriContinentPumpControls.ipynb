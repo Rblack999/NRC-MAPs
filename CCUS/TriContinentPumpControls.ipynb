{
 "cells": [
  {
   "cell_type": "markdown",
   "id": "5f4c3590",
   "metadata": {},
   "source": [
    "## TriContent Pump Controls\n",
    "This notebook uses the PyCont module (https://github.com/croningp/pycont) in order to control the TriContinent Pumps\n",
    "\n",
    "More functions can be added to this notebook if necessary as the library used has a wide range of selection to pick from.\n"
   ]
  },
  {
   "cell_type": "markdown",
   "id": "86ef217f",
   "metadata": {},
   "source": [
    "### Importing the necessary modules"
   ]
  },
  {
   "cell_type": "code",
   "execution_count": 2,
   "id": "fb0e6724",
   "metadata": {},
   "outputs": [],
   "source": [
    "import pycont.controller as cont\n",
    "import time\n",
    "import logging\n",
    "import serial #in case we close the port in each function"
   ]
  },
  {
   "cell_type": "markdown",
   "id": "64cedbe0",
   "metadata": {},
   "source": [
    "### Loading the configuration file\n",
    "The cell below enables the logger and configures the pump. The user might want to check if the configureation JSON file in the right directory - this will vary depending on where you clone the repository. To avoid any errors in the main file, the pump gets initialized and gets disconnected in each function, for general testing it can be initialized in the cell blow by uncommenting the initalizer."
   ]
  },
  {
   "cell_type": "code",
   "execution_count": 3,
   "id": "8d84a37f",
   "metadata": {},
   "outputs": [],
   "source": [
    "logging.basicConfig(level=logging.INFO)\n",
    "setup_config_file = r\"C:\\Users\\uzuno\\Documents\\NRC-MAPs\\CCUS\\sampleconfiguration.json\" # check your system\n",
    "controller = cont.MultiPumpController.from_configfile(setup_config_file)\n",
    "\n",
    "#initialize the pump - smart initialize is to avoid reinitializing, and resetting the pump back to zero position\n",
    "#controller.smart_initialize()"
   ]
  },
  {
   "cell_type": "markdown",
   "id": "2453744d",
   "metadata": {},
   "source": [
    "### Filling the electrolyte chamber\n",
    "The following function allows the pump to pump a certai volume from the specified valve.\n",
    "The valves for the syringe pump we use is as follows (as listed under pump_protocol.py):\n",
    "- \"I\" : valve input\n",
    "- \"O\" : valve output\n",
    "- \"B\" : valve bypass\n",
    "- \"E\" : extra valve\n",
    "\n",
    " The volumes indicated are in mL. "
   ]
  },
  {
   "cell_type": "code",
   "execution_count": 4,
   "id": "02945f00",
   "metadata": {},
   "outputs": [],
   "source": [
    "def fill_chamber(volume):\n",
    "    \"\"\"\n",
    "    This function moves the pumps the desired volume in mL and pumps it to the electrolyte chamber.\n",
    "    it pumps the liquid from the stock KHCO3 solution (valve \"I\") and outputs it to \"O\"\n",
    "    returns only after the pump is done moving\n",
    "    \"\"\"\n",
    "    controller.smart_initialize()\n",
    "\n",
    "    if controller.pumps[\"water\"].is_volume_pumpable(volume) and controller.pumps[\"water\"].is_idle():\n",
    "        for i in range(0, 1):\n",
    "            controller.pumps['water'].pump(volume, from_valve = \"I\")\n",
    "            time.sleep(0.5)\n",
    "            controller.pumps['water'].transfer(volume_in_ml=volume, from_valve = \"I\", to_valve = \"O\")\n",
    "            time.sleep(0.5)\n",
    "            controller.pumps['water'].deliver(volume, to_valve = \"O\")\n",
    "    else:\n",
    "        print(\"The pump can't pump this volume since it exceeds the available volume.\")\n",
    "        return False\n",
    "    time.sleep(2)\n",
    "\n",
    "    #the volume can be asked as an iquiry to the user \n",
    "    #if necessary or hard coded to the script\n",
    "    if __name__ == \"__main__\":\n",
    "        fill_chamber(volume)"
   ]
  },
  {
   "cell_type": "markdown",
   "id": "c776c017",
   "metadata": {},
   "source": [
    "### Emptying the electrolyte chamber\n",
    "The following function empties the electrolyte chamber by pumping the liquid from the \"O\" valve and delivering it to the \"E\" valve, to the waste beaker."
   ]
  },
  {
   "cell_type": "code",
   "execution_count": 5,
   "id": "e49d1f79",
   "metadata": {},
   "outputs": [],
   "source": [
    "def empty_chamber(volume:float):\n",
    "    \"\"\"\n",
    "    Empties the electrolyte chamber by a desired volume. \n",
    "    \n",
    "    wait attribute is set to True to ensure that the function\n",
    "    returns only after the pump is done moving\n",
    "    \"\"\"\n",
    "    controller.pumps[\"water\"].smart_initialize()\n",
    "\n",
    "    if controller.pumps[\"water\"].is_volume_pumpable(volume) and controller.pumps[\"water\"].is_idle():\n",
    "        for i in range(0,1):\n",
    "            controller.pumps['water'].pump(volume, from_valve = \"I\")\n",
    "            time.sleep(0.5)\n",
    "            controller.pumps['water'].transfer(volume_in_ml=volume, from_valve = \"I\", to_valve = \"O\")\n",
    "            time.sleep(0.5)\n",
    "            controller.pumps['water'].deliver(volume, to_valve = \"O\")\n",
    "    else:\n",
    "        print(\"The pump can't pump this volume since it exceeds the available volume.\")\n",
    "        return False\n",
    "    \n",
    "    if __name__ == \"__main__\":\n",
    "        empty_chamber(volume)\n",
    "\n",
    "#?? can there be a loop that iterates to pump volumes higher than the syringe?\n",
    "#should this be in the top file?"
   ]
  },
  {
   "cell_type": "code",
   "execution_count": 7,
   "id": "b72a04cf",
   "metadata": {},
   "outputs": [],
   "source": [
    "empty_chamber(volume = 2.0)\n",
    "#keeps repeating so it doesn't iterate through the loop only once - why?"
   ]
  },
  {
   "cell_type": "markdown",
   "id": "ac46fe57",
   "metadata": {},
   "source": [
    "### Sample JSON Setup file "
   ]
  },
  {
   "cell_type": "markdown",
   "id": "d7250da8",
   "metadata": {},
   "source": [
    "#### Configuration file for one chemical\n",
    "Below is a cell you can make edits as necessary on the chemical used with the syringe pump. You can make the changes the and run the cell which should update the configuratoin file attached to this repo, which is used for the commands. You might have to make edits in the code as the code calls chemical(s) listed in the list."
   ]
  },
  {
   "cell_type": "code",
   "execution_count": 38,
   "id": "7554db2c",
   "metadata": {},
   "outputs": [],
   "source": [
    "#testing with water\n",
    "import json\n",
    "\n",
    "config_dict = {\n",
    "    \"io\":\n",
    "    {\n",
    "        \"port\": \"COM7\",    #check your system\n",
    "        \"baudrate\": 9600,\n",
    "        \"timeout\": 1\n",
    "    },\n",
    "    \"default\":\n",
    "    {\n",
    "        \"volume\": 5,\n",
    "        \"micro_step_mode\": 2,\n",
    "        \"top_velocity\": 5000,\n",
    "        \"initialize_valve_position\": \"I\"\n",
    "    },\n",
    "    \"groups\":\n",
    "    {\n",
    "        \"chemicals\": [\"KHCO3 1M\"]\n",
    "    },\n",
    "    \"pumps\":\n",
    "    {\n",
    "        \"water\":\n",
    "        {\n",
    "            \"switch\": \"5\"\n",
    "        }\n",
    "    }\n",
    "}\n",
    "\n",
    "\n",
    "jsonfile = json.dumps(config_dict, indent=4)\n",
    "\n",
    "with open(\"sampleconfiguration.json\", \"w\") as outfile:\n",
    "    outfile.write(jsonfile)"
   ]
  },
  {
   "cell_type": "markdown",
   "id": "3fd79132",
   "metadata": {},
   "source": [
    "#### Configuration file for multiple chemicals"
   ]
  },
  {
   "cell_type": "code",
   "execution_count": null,
   "id": "a98f63a8",
   "metadata": {},
   "outputs": [],
   "source": [
    "#sample configuration file with multiple chemicals - we will be dealing with CO2 and KHCO3 only\n",
    "{\"default\": \n",
    "   {\"volume\": 5,\n",
    "    \"micro_step_mode\": 2,\n",
    "    \"top_velocity\": 24000,\n",
    "    \"initialize_valve_position\": \"I\"},\n",
    "\n",
    " \"hubs\": [\n",
    "    {\"io\": {\"port\": \"COM7\",\n",
    "            \"baudrate\": 9600,\n",
    "            \"timeout\": 1},\n",
    "     \"pumps\": {\"acetone\": {\"switch\": \"0\"},\n",
    "               \"water\": {\"switch\": \"1\", \"top_velocity\": 12000}\n",
    "               }\n",
    "    },\n",
    "    {\"io\": {\"port\": \"COM7\",\n",
    "            \"baudrate\": 9600,\n",
    "            \"timeout\": 1},\n",
    "     \"pumps\": {\"pentanol\": {\"switch\": \"0\"}}\n",
    "    }\n",
    "  ],\n",
    "  \"groups\": {\n",
    "    \"chemicals\": [\"acetone\", \"water\"],\n",
    "    \"oils\": [\"pentanol\"]\n",
    "  }\n",
    "}  "
   ]
  },
  {
   "cell_type": "code",
   "execution_count": null,
   "id": "ed960f25",
   "metadata": {},
   "outputs": [],
   "source": [
    "pycont.controller.C3000Controller(pump_io: ,\n",
    "    name: 'TCP',\n",
    "    address: 'COM7',\n",
    "    total_volume: 3.0,\n",
    "    micro_step_mode: int = 2,\n",
    "    top_velocity: int = 6000,\n",
    "    initialize_valve_position: str = 'I')\n",
    "\n",
    "#tbh I don't really remember why I added this but I will keep it just in case"
   ]
  },
  {
   "cell_type": "markdown",
   "id": "5ae28def",
   "metadata": {},
   "source": [
    "#### Useful commands that might be useful in the future"
   ]
  },
  {
   "cell_type": "code",
   "execution_count": null,
   "id": "2a703007",
   "metadata": {},
   "outputs": [
    {
     "data": {
      "text/plain": [
       "True"
      ]
     },
     "metadata": {},
     "output_type": "display_data"
    }
   ],
   "source": [
    "controller.pumps[\"water\"].get_raw_valve_position() #tells you what valve you are at"
   ]
  },
  {
   "cell_type": "code",
   "execution_count": null,
   "id": "813ed7e3",
   "metadata": {},
   "outputs": [
    {
     "data": {
      "text/plain": [
       "False"
      ]
     },
     "metadata": {},
     "output_type": "display_data"
    }
   ],
   "source": [
    "#controller.pumps[\"water\"].go_to_volume(2.0)\n",
    "#controller.pumps[\"water\"].pump(2.0) #this only allows you to specify which vlve you want to pump the liquid from where the other oen goes to volume not carin about the valve\n",
    "#controller.pumps[\"water\"].deliver(2.0)\n",
    "controller.pumps[\"water\"].get_volume()#tells how much volume there is in the pump\n",
    "controller.pumps[\"water\"].is_volume_pumpable(5.0)"
   ]
  }
 ],
 "metadata": {
  "kernelspec": {
   "display_name": "Python 3.9.13 ('CCUS_MAP')",
   "language": "python",
   "name": "python3"
  },
  "language_info": {
   "codemirror_mode": {
    "name": "ipython",
    "version": 3
   },
   "file_extension": ".py",
   "mimetype": "text/x-python",
   "name": "python",
   "nbconvert_exporter": "python",
   "pygments_lexer": "ipython3",
   "version": "3.9.13"
  },
  "vscode": {
   "interpreter": {
    "hash": "aaa1ecec86f523cae574774f0c33eecb1292a42f0db9dbeb59c81e008293f501"
   }
  }
 },
 "nbformat": 4,
 "nbformat_minor": 5
}
