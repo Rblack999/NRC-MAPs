{
 "cells": [
  {
   "cell_type": "code",
   "execution_count": 14,
   "id": "a0be2bfc",
   "metadata": {},
   "outputs": [],
   "source": [
    "import pickle\n",
    "import pandas as pd\n",
    "from datetime import date\n",
    "import os\n",
    "import numpy as np"
   ]
  },
  {
   "cell_type": "code",
   "execution_count": 2,
   "id": "09445c11",
   "metadata": {},
   "outputs": [],
   "source": [
    "with open(f'rbnb3p107_saved_data.pkl', 'rb') as file:\n",
    "    loaded_data = pickle.load(file)"
   ]
  },
  {
   "cell_type": "code",
   "execution_count": 22,
   "id": "7b8cf21e",
   "metadata": {},
   "outputs": [],
   "source": [
    "loaded_data['rbnb3p107']['Test_0']['Metric']['CO_Eff']\n",
    "experiment_name = 'rbnb3p107'\n",
    "exp_count = 0"
   ]
  },
  {
   "cell_type": "code",
   "execution_count": 23,
   "id": "dd0dc46f",
   "metadata": {},
   "outputs": [
    {
     "data": {
      "text/plain": [
       "array([0.00655939])"
      ]
     },
     "execution_count": 23,
     "metadata": {},
     "output_type": "execute_result"
    }
   ],
   "source": [
    "y = np.zeros(exp_count+1) # Make the initial array of zeroes for size of exp_count (note +1 is needed since exp_count starts at 0)\n",
    "for i in range(exp_count+1): # WHY DID I DO IT LIKE THIS, IS THIS NEEDED?\n",
    "    y[i] = np.array([loaded_data[f'{experiment_name}'][f'Test_{i}']['Metric']['CO_Eff']])\n",
    "y"
   ]
  },
  {
   "cell_type": "code",
   "execution_count": 6,
   "id": "0515f182",
   "metadata": {},
   "outputs": [],
   "source": [
    "# This block sets up the initial dictionary as part of the campaign. This is the object that will be updated throughout each run\n",
    "experiment_name = 'rbnb3p86'\n",
    "number_runs = 50\n",
    "exp_start = 0 # 0 is new campaign, other if continuing an existing campaign\n",
    "dict = {}\n",
    "dict[f'{experiment_name}'] = {}\n",
    "\n",
    "#Pre populate the dictionary with the general data structure\n",
    "for exp_count in range(number_runs):\n",
    "    dict[f'{experiment_name}'][f'Test_{exp_count}'] = {'Depo':{},'Char':{},'Metric':{},'AL':{}}\n",
    "\n",
    "# Create the folder if it doesn't exist based on the date of creation\n",
    "date_format = date.today().strftime(\"%Y_%m_%d\") # https://www.programiz.com/python-programming/datetime/current-datetime\n",
    "root_path = f'C:/Users/Blackr/Desktop/Automation/Campaigns/{date_format}/'\n",
    "if not os.path.exists(root_path): # Check if folder exists - if not, make it, else use existing folder\n",
    "    os.makedirs(root_path)\n",
    "\n",
    "# # Save the initial pickle file\n",
    "with open(f'{root_path}{experiment_name}_saved_data.pkl', 'wb') as f:\n",
    "            pickle.dump(dict, f)"
   ]
  },
  {
   "cell_type": "code",
   "execution_count": null,
   "id": "f5595272",
   "metadata": {},
   "outputs": [],
   "source": []
  }
 ],
 "metadata": {
  "kernelspec": {
   "display_name": "Python 3 (ipykernel)",
   "language": "python",
   "name": "python3"
  },
  "language_info": {
   "codemirror_mode": {
    "name": "ipython",
    "version": 3
   },
   "file_extension": ".py",
   "mimetype": "text/x-python",
   "name": "python",
   "nbconvert_exporter": "python",
   "pygments_lexer": "ipython3",
   "version": "3.7.11"
  }
 },
 "nbformat": 4,
 "nbformat_minor": 5
}
