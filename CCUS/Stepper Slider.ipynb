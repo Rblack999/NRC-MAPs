{
 "cells": [
  {
   "cell_type": "markdown",
   "id": "273cf207",
   "metadata": {},
   "source": [
    "# Stepper Slider Motor Controls\n",
    "\n",
    "### Originally written by Kurtis Laqua\n",
    "#### Robert Black and Oyku Uzun maintains, modifys, and updates code as necessary\n",
    "\n",
    "This notebook allows the user to control the stepper slider which the cell is mounted to. The user can manually input the desired displacement of the stepper slider for testing, along with the speed and the axis (G0) by running the appropriate cells below.\n",
    "\n",
    "In order to communicate with the board used (BIGTREETECH-SKR-mini-E3), we use G code commands. For our purposes as the stepper slider moves on the same axis (up and down), G0 X-- F## is the typical command used. Here, -- represents the displacement in milimeters and ## represents the speed of the steper slder. The stepper slider uses relative displacemetn by default and negative X value represents down and vice versa for positive displacement.\n",
    "\n",
    "List of Relevant commands:\n",
    "- $H:return to reference (home) position \n",
    "- ?: to get the state of the board as well as the position\n",
    "- G90: switch to absolute displacement (from the home position which is X = 25) this is the original setting\n",
    "- G91: switch to relative displacement (reltive to the last position the stepper slider is\n",
    "- A full list can be found in this website: https://www.iqsdirectory.com/articles/cnc-machining/g-code.html.\n",
    "\n",
    "The board uses a 12-24 V power supply, so please ensure that the adequate power supply is used to not damage the equipment"
   ]
  },
  {
   "cell_type": "markdown",
   "id": "0ce12692",
   "metadata": {},
   "source": [
    "### Modules & Serial Connection to the board\n",
    "Run the cell below to import the needed modules. \n",
    "Please check your Device Manager to ensure that the port and the baudrate (115200) is correct."
   ]
  },
  {
   "cell_type": "code",
   "execution_count": 1,
   "id": "7a01978e",
   "metadata": {},
   "outputs": [],
   "source": [
    "import serial\n",
    "import time\n",
    "\n",
    "ser = serial.Serial('COM9',115200)  # open serial port"
   ]
  },
  {
   "cell_type": "markdown",
   "id": "9566958e",
   "metadata": {},
   "source": [
    "### Startup commands \n",
    "\n",
    "Make sure to run this cell in order to start the connection between the board and the computer"
   ]
  },
  {
   "cell_type": "code",
   "execution_count": 2,
   "id": "ff3746c6",
   "metadata": {},
   "outputs": [],
   "source": [
    "def receiving():\n",
    "    while ser.inWaiting() >0:\n",
    "        line= ser.read_until().decode().rstrip()\n",
    "        #time.sleep(.05)\n",
    "        print(line)\n",
    "    print(\"empty\")\n",
    "    \n",
    "    \n",
    "def startup():\n",
    "    print(\"Connecting to board on:\",ser.name)     # check which port was really used\n",
    "    ser.write(\"\\r\\n\\r\\n\".encode())\n",
    "    time.sleep(2)   # Wait for board to initialize\n",
    "    receiving() "
   ]
  },
  {
   "cell_type": "markdown",
   "id": "4f2429e6",
   "metadata": {},
   "source": [
    "### Cell for manually inputting the commands for the stepper slider\n",
    "Run this cell if you want to input the motion specifications manually or if you would like to home the cell (command: $H).\n",
    "\n",
    "Ensure that your commands are in the form (with the spaces in between): G0 X## F@@.\n",
    "\n",
    "G indicates the axis, 0 for our purposes. Negative X displacement moves the cell down and vice versa. F i followed by the cell you want the motor to move the stepper slider - can be adjusted according to the needs.\n",
    "\n",
    "To exit the loop, type 0 in the input command line."
   ]
  },
  {
   "cell_type": "code",
   "execution_count": 3,
   "id": "0b60473a",
   "metadata": {},
   "outputs": [
    {
     "name": "stdout",
     "output_type": "stream",
     "text": [
      "Connecting to board on: COM9\n",
      "ok\n",
      "ok\n",
      "empty\n"
     ]
    },
    {
     "ename": "SerialException",
     "evalue": "WriteFile failed (PermissionError(13, 'The device does not recognize the command.', None, 22))",
     "output_type": "error",
     "traceback": [
      "\u001b[1;31m---------------------------------------------------------------------------\u001b[0m",
      "\u001b[1;31mSerialException\u001b[0m                           Traceback (most recent call last)",
      "\u001b[1;32m~\\AppData\\Local\\Temp\\1\\ipykernel_19856\\3921511282.py\u001b[0m in \u001b[0;36m<module>\u001b[1;34m\u001b[0m\n\u001b[0;32m      3\u001b[0m \u001b[1;32mwhile\u001b[0m \u001b[1;32mTrue\u001b[0m\u001b[1;33m:\u001b[0m\u001b[1;33m\u001b[0m\u001b[1;33m\u001b[0m\u001b[0m\n\u001b[0;32m      4\u001b[0m     \u001b[0mcommand\u001b[0m \u001b[1;33m=\u001b[0m \u001b[0minput\u001b[0m\u001b[1;33m(\u001b[0m\u001b[1;34m\"SEND:\"\u001b[0m\u001b[1;33m)\u001b[0m\u001b[1;33m\u001b[0m\u001b[1;33m\u001b[0m\u001b[0m\n\u001b[1;32m----> 5\u001b[1;33m     \u001b[0mser\u001b[0m\u001b[1;33m.\u001b[0m\u001b[0mwrite\u001b[0m\u001b[1;33m(\u001b[0m\u001b[1;33m(\u001b[0m\u001b[0mcommand\u001b[0m\u001b[1;33m+\u001b[0m\u001b[1;34m\"\\n\"\u001b[0m\u001b[1;33m)\u001b[0m\u001b[1;33m.\u001b[0m\u001b[0mencode\u001b[0m\u001b[1;33m(\u001b[0m\u001b[1;33m)\u001b[0m\u001b[1;33m)\u001b[0m\u001b[1;33m\u001b[0m\u001b[1;33m\u001b[0m\u001b[0m\n\u001b[0m\u001b[0;32m      6\u001b[0m     \u001b[0mtime\u001b[0m\u001b[1;33m.\u001b[0m\u001b[0msleep\u001b[0m\u001b[1;33m(\u001b[0m\u001b[1;36m0.50\u001b[0m\u001b[1;33m)\u001b[0m\u001b[1;33m\u001b[0m\u001b[1;33m\u001b[0m\u001b[0m\n\u001b[0;32m      7\u001b[0m \u001b[1;33m\u001b[0m\u001b[0m\n",
      "\u001b[1;32m~\\AppData\\Roaming\\Python\\Python39\\site-packages\\serial\\serialwin32.py\u001b[0m in \u001b[0;36mwrite\u001b[1;34m(self, data)\u001b[0m\n\u001b[0;32m    315\u001b[0m             \u001b[1;32mif\u001b[0m \u001b[0mself\u001b[0m\u001b[1;33m.\u001b[0m\u001b[0m_write_timeout\u001b[0m \u001b[1;33m!=\u001b[0m \u001b[1;36m0\u001b[0m\u001b[1;33m:\u001b[0m  \u001b[1;31m# if blocking (None) or w/ write timeout (>0)\u001b[0m\u001b[1;33m\u001b[0m\u001b[1;33m\u001b[0m\u001b[0m\n\u001b[0;32m    316\u001b[0m                 \u001b[1;32mif\u001b[0m \u001b[1;32mnot\u001b[0m \u001b[0msuccess\u001b[0m \u001b[1;32mand\u001b[0m \u001b[0mwin32\u001b[0m\u001b[1;33m.\u001b[0m\u001b[0mGetLastError\u001b[0m\u001b[1;33m(\u001b[0m\u001b[1;33m)\u001b[0m \u001b[1;32mnot\u001b[0m \u001b[1;32min\u001b[0m \u001b[1;33m(\u001b[0m\u001b[0mwin32\u001b[0m\u001b[1;33m.\u001b[0m\u001b[0mERROR_SUCCESS\u001b[0m\u001b[1;33m,\u001b[0m \u001b[0mwin32\u001b[0m\u001b[1;33m.\u001b[0m\u001b[0mERROR_IO_PENDING\u001b[0m\u001b[1;33m)\u001b[0m\u001b[1;33m:\u001b[0m\u001b[1;33m\u001b[0m\u001b[1;33m\u001b[0m\u001b[0m\n\u001b[1;32m--> 317\u001b[1;33m                     \u001b[1;32mraise\u001b[0m \u001b[0mSerialException\u001b[0m\u001b[1;33m(\u001b[0m\u001b[1;34m\"WriteFile failed ({!r})\"\u001b[0m\u001b[1;33m.\u001b[0m\u001b[0mformat\u001b[0m\u001b[1;33m(\u001b[0m\u001b[0mctypes\u001b[0m\u001b[1;33m.\u001b[0m\u001b[0mWinError\u001b[0m\u001b[1;33m(\u001b[0m\u001b[1;33m)\u001b[0m\u001b[1;33m)\u001b[0m\u001b[1;33m)\u001b[0m\u001b[1;33m\u001b[0m\u001b[1;33m\u001b[0m\u001b[0m\n\u001b[0m\u001b[0;32m    318\u001b[0m \u001b[1;33m\u001b[0m\u001b[0m\n\u001b[0;32m    319\u001b[0m                 \u001b[1;31m# Wait for the write to complete.\u001b[0m\u001b[1;33m\u001b[0m\u001b[1;33m\u001b[0m\u001b[0m\n",
      "\u001b[1;31mSerialException\u001b[0m: WriteFile failed (PermissionError(13, 'The device does not recognize the command.', None, 22))"
     ]
    }
   ],
   "source": [
    "startup()\n",
    "\n",
    "while True:   \n",
    "    command = input(\"SEND:\")\n",
    "    ser.write((command+\"\\n\").encode())\n",
    "    time.sleep(0.50)\n",
    "\n",
    "    \n",
    "    if command==\"0\":\n",
    "        ser.close()\n",
    "        break\n",
    "print(\"Done, Closing\")\n"
   ]
  },
  {
   "cell_type": "markdown",
   "id": "c64aa7d2",
   "metadata": {},
   "source": [
    "## Closing the cell on the sample\n",
    "Move the cell down onto the sample to be tested. Since the displacement of the cell remains the same, hard coded the displacement into the G-code."
   ]
  },
  {
   "cell_type": "code",
   "execution_count": null,
   "id": "856a7f33",
   "metadata": {},
   "outputs": [],
   "source": [
    "def move_down():\n",
    "   \n",
    "    ser.write(('G0 X-32.5 F300' + \"\\n\").encode())\n",
    "\n",
    "    if __name__ == \"__main__\":\n",
    "        move_down()"
   ]
  },
  {
   "cell_type": "markdown",
   "id": "a322a528",
   "metadata": {},
   "source": [
    "### Opening the cell (moving the stepper slider up)\n",
    "Move the cell up once the experiment is done and the peripheral measurement devices (GC, Potentoistat etc.) has collected all the necessary data for the experimental run."
   ]
  },
  {
   "cell_type": "code",
   "execution_count": null,
   "id": "ef13c348",
   "metadata": {},
   "outputs": [],
   "source": [
    "def move_up():\n",
    "    \n",
    "    ser.write(('G0 X32.5 F400' + \"\\n\").encode())\n",
    "    \n",
    "    if __name__ == \"__main__\":\n",
    "        move_up()"
   ]
  },
  {
   "cell_type": "markdown",
   "id": "19251eb4",
   "metadata": {},
   "source": [
    "### Going back to the reference position\n",
    "Run the cell below to return the stepper slider into its original home position."
   ]
  },
  {
   "cell_type": "code",
   "execution_count": null,
   "id": "0ee9eae9",
   "metadata": {},
   "outputs": [],
   "source": [
    "def home():\n",
    "    \n",
    "    ser.write(('$H' + \"\\n\").encode())\n",
    "    \n",
    "    if __name__ == \"__main__\":\n",
    "        home()"
   ]
  }
 ],
 "metadata": {
  "kernelspec": {
   "display_name": "Python 3 (ipykernel)",
   "language": "python",
   "name": "python3"
  },
  "language_info": {
   "codemirror_mode": {
    "name": "ipython",
    "version": 3
   },
   "file_extension": ".py",
   "mimetype": "text/x-python",
   "name": "python",
   "nbconvert_exporter": "python",
   "pygments_lexer": "ipython3",
   "version": "3.9.13"
  },
  "vscode": {
   "interpreter": {
    "hash": "aaa1ecec86f523cae574774f0c33eecb1292a42f0db9dbeb59c81e008293f501"
   }
  }
 },
 "nbformat": 4,
 "nbformat_minor": 5
}
