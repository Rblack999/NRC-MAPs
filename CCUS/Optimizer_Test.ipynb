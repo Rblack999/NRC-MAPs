{
 "cells": [
  {
   "cell_type": "code",
   "execution_count": 1,
   "metadata": {},
   "outputs": [],
   "source": [
    "import csv, json, time\n",
    "from datetime import date\n",
    "import pickle\n",
    "import os\n",
    "import json\n",
    "import numpy as np\n",
    "import math\n",
    "from nrc_custom.CCUS_Initiation import Campaign_Initiation\n",
    "from nrc_custom.CCUS_PostProcess import PostProcessing\n",
    "from nrc_custom.CCUS_Active_Learning_Noise import ActiveLearning\n",
    "from nrc_custom.CCUS_N9_workflow import N9_Workflow\n",
    "from scipy.stats import qmc\n",
    "import torch"
   ]
  },
  {
   "cell_type": "code",
   "execution_count": 2,
   "metadata": {},
   "outputs": [],
   "source": [
    "# Initial User Variables\n",
    "experiment_name = 'rbnb3p108'\n",
    "root_path = f'C:/Users/Blackr/Desktop/Automation/Campaigns/{experiment_name}/'\n",
    "exp_count = 1\n",
    "test = f'Test_{exp_count}'"
   ]
  },
  {
   "cell_type": "code",
   "execution_count": 3,
   "metadata": {},
   "outputs": [
    {
     "name": "stdout",
     "output_type": "stream",
     "text": [
      "Model update based on the previous 1 tests\n",
      "Optimization commencing...\n",
      "New candidate: [[ 0.1 -0.5 54.5]]\n",
      "New candidate composition to be added to trainset: tensor([ 0.1000, -0.5000, 54.5000], dtype=torch.float64)\n",
      "Best optimization metric thus far is: 0.0056065074168145\n"
     ]
    }
   ],
   "source": [
    "# Run the optimizer\n",
    "next_experiment = ActiveLearning(root_path, experiment_name, test, exp_count) #Need to reinitialize to load in data\n",
    "\n",
    "next_experiment.determine_next_experiment() # Uncomment when ready to run real optimization"
   ]
  },
  {
   "cell_type": "code",
   "execution_count": 4,
   "metadata": {},
   "outputs": [],
   "source": [
    "loaded_checkpoint = torch.load(os.path.join(f'{root_path}','model_checkpoint_Test_1'))"
   ]
  },
  {
   "cell_type": "code",
   "execution_count": 14,
   "metadata": {},
   "outputs": [
    {
     "data": {
      "text/plain": [
       "dict_values([1, OrderedDict([('mean_module.constant', tensor([2.3868e-14], dtype=torch.float64)), ('covar_module.raw_outputscale', tensor(2.5033, dtype=torch.float64)), ('covar_module.base_kernel.raw_lengthscale', tensor([[-0.9273, -0.9273, -0.9273]], dtype=torch.float64)), ('covar_module.base_kernel.lengthscale_prior.concentration', tensor(3., dtype=torch.float64)), ('covar_module.base_kernel.lengthscale_prior.rate', tensor(6., dtype=torch.float64)), ('covar_module.base_kernel.raw_lengthscale_constraint.lower_bound', tensor(0., dtype=torch.float64)), ('covar_module.base_kernel.raw_lengthscale_constraint.upper_bound', tensor(inf, dtype=torch.float64)), ('covar_module.outputscale_prior.concentration', tensor(2., dtype=torch.float64)), ('covar_module.outputscale_prior.rate', tensor(0.1500, dtype=torch.float64)), ('covar_module.raw_outputscale_constraint.lower_bound', tensor(0., dtype=torch.float64)), ('covar_module.raw_outputscale_constraint.upper_bound', tensor(inf, dtype=torch.float64))]), tensor([[-1.4102, -1.5811,  0.9487],\n",
       "        [ 1.3489,  1.5811, -1.5811]], dtype=torch.float64), tensor([[ 1.0000],\n",
       "        [-1.0000]], dtype=torch.float64), tensor([[ 0.1000, -0.5000, 49.0000],\n",
       "        [ 1.0000,  0.5000,  5.0000]], dtype=torch.float64), tensor([[0.0056],\n",
       "        [0.0003]], dtype=torch.float64), tensor([[0.],\n",
       "        [0.]], dtype=torch.float64)])"
      ]
     },
     "execution_count": 14,
     "metadata": {},
     "output_type": "execute_result"
    }
   ],
   "source": [
    "loaded_checkpoint.values()"
   ]
  },
  {
   "cell_type": "code",
   "execution_count": 4,
   "metadata": {},
   "outputs": [],
   "source": [
    "with open(f'{root_path}{experiment_name}_saved_data.pkl', 'rb') as f:\n",
    "    loaded_data = pickle.load(f)    "
   ]
  },
  {
   "cell_type": "code",
   "execution_count": 5,
   "metadata": {},
   "outputs": [
    {
     "data": {
      "text/plain": [
       "array([  8, 594,   8])"
      ]
     },
     "execution_count": 5,
     "metadata": {},
     "output_type": "execute_result"
    }
   ],
   "source": [
    "loaded_data[f'{experiment_name}'][f'Test_1']['AL']['train_inds']"
   ]
  },
  {
   "cell_type": "code",
   "execution_count": 12,
   "metadata": {},
   "outputs": [
    {
     "ename": "AttributeError",
     "evalue": "'dict' object has no attribute 'posterior'",
     "output_type": "error",
     "traceback": [
      "\u001b[1;31m---------------------------------------------------------------------------\u001b[0m",
      "\u001b[1;31mAttributeError\u001b[0m                            Traceback (most recent call last)",
      "\u001b[1;32m~\\AppData\\Local\\Temp\\1/ipykernel_33704/3243858409.py\u001b[0m in \u001b[0;36m<module>\u001b[1;34m\u001b[0m\n\u001b[1;32m----> 1\u001b[1;33m \u001b[0mposterior\u001b[0m \u001b[1;33m=\u001b[0m \u001b[0mloaded_checkpoint\u001b[0m\u001b[1;33m.\u001b[0m\u001b[0mposterior\u001b[0m\u001b[1;33m(\u001b[0m\u001b[0mnew_candidate_pool\u001b[0m\u001b[1;33m)\u001b[0m\u001b[1;33m\u001b[0m\u001b[1;33m\u001b[0m\u001b[0m\n\u001b[0m",
      "\u001b[1;31mAttributeError\u001b[0m: 'dict' object has no attribute 'posterior'"
     ]
    }
   ],
   "source": [
    "posterior = loaded_checkpoint.posterior(new_candidate_pool)"
   ]
  },
  {
   "cell_type": "code",
   "execution_count": null,
   "metadata": {},
   "outputs": [],
   "source": []
  }
 ],
 "metadata": {
  "kernelspec": {
   "display_name": "CCUS",
   "language": "python",
   "name": "python3"
  },
  "language_info": {
   "codemirror_mode": {
    "name": "ipython",
    "version": 3
   },
   "file_extension": ".py",
   "mimetype": "text/x-python",
   "name": "python",
   "nbconvert_exporter": "python",
   "pygments_lexer": "ipython3",
   "version": "3.7.11"
  }
 },
 "nbformat": 4,
 "nbformat_minor": 2
}
