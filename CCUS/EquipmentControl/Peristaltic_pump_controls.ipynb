{
 "cells": [
  {
   "cell_type": "markdown",
   "id": "310bbb1e",
   "metadata": {},
   "source": [
    "# Peristaltic Pump New-Era Pump Controls\n",
    "## Originally Written by Robert Black & Adel Naim on April 5th, 2022\n",
    "## Robert Black maintains, modifys, and updates code as necessary\n",
    "The purpose of this notebook is to facilitate the operation of 1 to 2 new-era peristaltic pumps. The user can turn both pumps on and off, in addition to changing their direction and flowrate independantly.\n",
    "\n",
    "Pumps can be connected by daisy chaining to a computer. It is important to note that the address of each connected pump starts at 0 and increases by 1 for each pump. (Eg. Pump 1's address will be 0, pump 2's address will be 1, etc).\n",
    "\n",
    "The full manual (https://www.syringepump.com/download/NE-9000%20Peristaltic%20Pump%20User%20Manual.pdf) includes information on setups and serial commands. For this notebook, the new_era user-created library was used. Visit https://gitlab.com/heingroup/new_era for documentation and some exmaple uses of the library.\n",
    "\n",
    "Note: This notebook was written to operate two daisy chained pumps. Code can be commented out if one wishes to only use the commands to operate one pump, or certain pumps. "
   ]
  },
  {
   "cell_type": "markdown",
   "id": "4a8e2fd5",
   "metadata": {},
   "source": [
    "### Modules, Start and Stop Commands\n",
    "Run the cell below to import the needed modules."
   ]
  },
  {
   "cell_type": "code",
   "execution_count": null,
   "id": "1bc8e4e1",
   "metadata": {},
   "outputs": [],
   "source": [
    "from new_era.peristaltic_pump import PeristalticPump\n",
    "import serial\n",
    "import time                                   #Required modules are imported.\n",
    "import io\n",
    "from new_era.peristaltic_pump_network import PeristalticPumpNetwork"
   ]
  },
  {
   "cell_type": "markdown",
   "id": "e3ed8a15",
   "metadata": {},
   "source": [
    "connecting to the pumps and creating global variables"
   ]
  },
  {
   "cell_type": "code",
   "execution_count": null,
   "id": "90555789",
   "metadata": {},
   "outputs": [],
   "source": [
    "pump_port = 'COM5'  # check on your own system\n",
    "pump_network = PeristalticPumpNetwork(port=pump_port, baudrate=9600)\n",
    "ne_pump_1 = pump_network.add_pump(address=0, baudrate=9600)  # first pump directly connected to the computer\n",
    "ne_pump_2 = pump_network.add_pump(address=1, baudrate=9600)  "
   ]
  },
  {
   "cell_type": "markdown",
   "id": "c66e8e85",
   "metadata": {},
   "source": [
    "### Start Command\n",
    "The following cell starts two pumps. Pumps may be easily added or removed. Ensure that any added pumps are given their correct address."
   ]
  },
  {
   "cell_type": "code",
   "execution_count": null,
   "id": "d2ca8e83",
   "metadata": {
    "scrolled": false
   },
   "outputs": [],
   "source": [
    "def start_pump():\n",
    "    \n",
    "    ne_pump_1.start()\n",
    "    ne_pump_2.start()\n",
    "    \n",
    "    if __name__ == \"__main__\":\n",
    "        start_pump()"
   ]
  },
  {
   "cell_type": "markdown",
   "id": "7a5b6edc",
   "metadata": {},
   "source": [
    "### Stop Command\n",
    "The following cell stops two pumps. "
   ]
  },
  {
   "cell_type": "code",
   "execution_count": null,
   "id": "3746cc94",
   "metadata": {},
   "outputs": [],
   "source": [
    "def stop_pump():\n",
    "    \n",
    "    ne_pump_1.stop()\n",
    "    ne_pump_2.stop()\n",
    "    \n",
    "    if __name__ == \"__main__\":\n",
    "        stop_pump()"
   ]
  },
  {
   "cell_type": "markdown",
   "id": "9b3800d8",
   "metadata": {},
   "source": [
    "### Change Direction Command\n",
    "The following cell reverses the direction of two pumps. The code can be run twice to return the pumps to their original direction (i.e Clockwise → counterclockwise → clockwise)."
   ]
  },
  {
   "cell_type": "code",
   "execution_count": null,
   "id": "497826ff",
   "metadata": {},
   "outputs": [],
   "source": [
    "def change_direction():\n",
    "\n",
    "    directions = ['dispense','withdraw','reverse']   \n",
    "    direction = input(\"What direction do you want to change to? Choose between 'dispense', 'withdraw', or 'reverse'.\")   \n",
    "\n",
    "    if direction in directions:\n",
    "       ne_pump_1.set_direction(direction) \n",
    "       ne_pump_2.set_direction(direction)\n",
    "   \n",
    "    else: print(\"Choose one of the allowed directions!\")\n",
    "\n",
    "    if __name__ == \"__main__\":\n",
    "       change_direction()"
   ]
  },
  {
   "cell_type": "markdown",
   "id": "08fc0a52",
   "metadata": {},
   "source": [
    "### Change Flow Rate Command\n",
    "The following cell allows for altering the flowrate of two pumps."
   ]
  },
  {
   "cell_type": "code",
   "execution_count": null,
   "id": "634df86a",
   "metadata": {},
   "outputs": [],
   "source": [
    "def change_flowrate():\n",
    "    \n",
    "   rate = input(\"Input the flowrate you would like the pumps to run at (in ml/min). For the current tubing, the flowrate must be between 0.004 ml/min and 75.19 ml/min.\")   \n",
    "   rate = float(rate)\n",
    "   \n",
    "   if 0.004 <= rate <= 75.19: \n",
    "      ne_pump_1.set_rate(rate, unit='ml/min')\n",
    "      ne_pump_2.set_rate(rate, unit='ml/min')\n",
    "   \n",
    "   elif rate < 0.004:\n",
    "      print(\"Your flowrate is too small. Choose a flowrate between 0.004 ml/min and 75.19 ml/min.\")\n",
    "   \n",
    "   elif rate > 75.19:\n",
    "      print(\"Your flowrate is too large. Choose a flowrate between 0.004 ml/min and 75.19 ml/min.\")\n",
    "\n",
    "   if __name__ == \"__main__\":\n",
    "      change_flowrate()"
   ]
  }
 ],
 "metadata": {
  "kernelspec": {
   "display_name": "Python 3 (ipykernel)",
   "language": "python",
   "name": "python3"
  },
  "language_info": {
   "codemirror_mode": {
    "name": "ipython",
    "version": 3
   },
   "file_extension": ".py",
   "mimetype": "text/x-python",
   "name": "python",
   "nbconvert_exporter": "python",
   "pygments_lexer": "ipython3",
   "version": "3.7.11"
  },
  "vscode": {
   "interpreter": {
    "hash": "aaa1ecec86f523cae574774f0c33eecb1292a42f0db9dbeb59c81e008293f501"
   }
  }
 },
 "nbformat": 4,
 "nbformat_minor": 5
}
