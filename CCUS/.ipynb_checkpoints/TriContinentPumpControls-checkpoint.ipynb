{
 "cells": [
  {
   "cell_type": "markdown",
   "id": "c45ff5c3",
   "metadata": {},
   "source": [
    "## TriContent Pump Controls\n",
    "This notebook uses the PyCont module (https://github.com/croningp/pycont) in order to control the TriContinent Pumps\n",
    "\n",
    "More functions can be added to this notebook if necessary as the library used has a wide range of selection to pick from.\n"
   ]
  },
  {
   "cell_type": "markdown",
   "id": "f709515c",
   "metadata": {},
   "source": [
    "### Importing the necessary modules"
   ]
  },
  {
   "cell_type": "code",
   "execution_count": 1,
   "id": "5eee597b",
   "metadata": {},
   "outputs": [],
   "source": [
    "import pycont.controller as cont\n",
    "import time\n",
    "import logging\n",
    "import serial #in case we close the port in each function"
   ]
  },
  {
   "cell_type": "markdown",
   "id": "44dcd0b5",
   "metadata": {},
   "source": [
    "### Loading the configuration file\n",
    "The cell below enables the logger and configures the pump. The user might want to check if the configureation JSON file in the right directory - this will vary depending on where you clone the repository. To avoid any errors in the main file, the pump gets initialized and gets disconnected in each function, for general testing it can be initialized in the cell blow by uncommenting the initalizer."
   ]
  },
  {
   "cell_type": "code",
   "execution_count": 2,
   "id": "66664a3b",
   "metadata": {},
   "outputs": [],
   "source": [
    "logging.basicConfig(level=logging.INFO)\n",
    "setup_config_file = r\"C:\\Users\\Blackr\\Documents\\CCUS\\MAPs\\Pump_Config.json\" # check your system\n",
    "\n",
    "controller = cont.MultiPumpController.from_configfile(setup_config_file)\n",
    "\n",
    "#initialize the pump - smart initialize is to avoid reinitializing, and resetting the pump back to zero position\n",
    "#controller.smart_initialize()"
   ]
  },
  {
   "cell_type": "markdown",
   "id": "9560d03c",
   "metadata": {},
   "source": [
    "### Filling the electrolyte chamber\n",
    "The following function allows the pump to pump a certai volume from the specified valve.\n",
    "The valves for the syringe pump we use is as follows (as listed under pump_protocol.py):\n",
    "- \"I\" : valve input\n",
    "- \"O\" : valve output\n",
    "- \"B\" : valve bypass\n",
    "- \"E\" : extra valve\n",
    "\n",
    "Note that for a three way pump (which will be used for the electrolyte chamber set up) the valves are I, E, O listed closkvise starting from the inlet on the left.\n",
    "\n",
    " The volumes indicated are in mL. "
   ]
  },
  {
   "cell_type": "code",
   "execution_count": 3,
   "id": "f3a44eef",
   "metadata": {},
   "outputs": [
    {
     "ename": "ControllerRepeatedError",
     "evalue": "Repeated Error from pump water",
     "output_type": "error",
     "traceback": [
      "\u001b[1;31m---------------------------------------------------------------------------\u001b[0m",
      "\u001b[1;31mControllerRepeatedError\u001b[0m                   Traceback (most recent call last)",
      "\u001b[1;32m~\\AppData\\Local\\Temp\\1/ipykernel_29680/1465063034.py\u001b[0m in \u001b[0;36m<module>\u001b[1;34m\u001b[0m\n\u001b[0;32m     23\u001b[0m         \u001b[0mfill_chamber\u001b[0m\u001b[1;33m(\u001b[0m\u001b[0mvolume\u001b[0m\u001b[1;33m)\u001b[0m\u001b[1;33m\u001b[0m\u001b[1;33m\u001b[0m\u001b[0m\n\u001b[0;32m     24\u001b[0m \u001b[1;33m\u001b[0m\u001b[0m\n\u001b[1;32m---> 25\u001b[1;33m \u001b[0mfill_chamber\u001b[0m\u001b[1;33m(\u001b[0m\u001b[1;36m2.4\u001b[0m\u001b[1;33m)\u001b[0m \u001b[1;31m#testing\u001b[0m\u001b[1;33m\u001b[0m\u001b[1;33m\u001b[0m\u001b[0m\n\u001b[0m",
      "\u001b[1;32m~\\AppData\\Local\\Temp\\1/ipykernel_29680/1465063034.py\u001b[0m in \u001b[0;36mfill_chamber\u001b[1;34m(volume)\u001b[0m\n\u001b[0;32m     21\u001b[0m     \u001b[1;31m#if necessary or hard coded to the script\u001b[0m\u001b[1;33m\u001b[0m\u001b[1;33m\u001b[0m\u001b[1;33m\u001b[0m\u001b[0m\n\u001b[0;32m     22\u001b[0m     \u001b[1;32mif\u001b[0m \u001b[0m__name__\u001b[0m \u001b[1;33m==\u001b[0m \u001b[1;34m\"__main__\"\u001b[0m\u001b[1;33m:\u001b[0m\u001b[1;33m\u001b[0m\u001b[1;33m\u001b[0m\u001b[0m\n\u001b[1;32m---> 23\u001b[1;33m         \u001b[0mfill_chamber\u001b[0m\u001b[1;33m(\u001b[0m\u001b[0mvolume\u001b[0m\u001b[1;33m)\u001b[0m\u001b[1;33m\u001b[0m\u001b[1;33m\u001b[0m\u001b[0m\n\u001b[0m\u001b[0;32m     24\u001b[0m \u001b[1;33m\u001b[0m\u001b[0m\n\u001b[0;32m     25\u001b[0m \u001b[0mfill_chamber\u001b[0m\u001b[1;33m(\u001b[0m\u001b[1;36m2.4\u001b[0m\u001b[1;33m)\u001b[0m \u001b[1;31m#testing\u001b[0m\u001b[1;33m\u001b[0m\u001b[1;33m\u001b[0m\u001b[0m\n",
      "\u001b[1;32m~\\AppData\\Local\\Temp\\1/ipykernel_29680/1465063034.py\u001b[0m in \u001b[0;36mfill_chamber\u001b[1;34m(volume)\u001b[0m\n\u001b[0;32m     21\u001b[0m     \u001b[1;31m#if necessary or hard coded to the script\u001b[0m\u001b[1;33m\u001b[0m\u001b[1;33m\u001b[0m\u001b[1;33m\u001b[0m\u001b[0m\n\u001b[0;32m     22\u001b[0m     \u001b[1;32mif\u001b[0m \u001b[0m__name__\u001b[0m \u001b[1;33m==\u001b[0m \u001b[1;34m\"__main__\"\u001b[0m\u001b[1;33m:\u001b[0m\u001b[1;33m\u001b[0m\u001b[1;33m\u001b[0m\u001b[0m\n\u001b[1;32m---> 23\u001b[1;33m         \u001b[0mfill_chamber\u001b[0m\u001b[1;33m(\u001b[0m\u001b[0mvolume\u001b[0m\u001b[1;33m)\u001b[0m\u001b[1;33m\u001b[0m\u001b[1;33m\u001b[0m\u001b[0m\n\u001b[0m\u001b[0;32m     24\u001b[0m \u001b[1;33m\u001b[0m\u001b[0m\n\u001b[0;32m     25\u001b[0m \u001b[0mfill_chamber\u001b[0m\u001b[1;33m(\u001b[0m\u001b[1;36m2.4\u001b[0m\u001b[1;33m)\u001b[0m \u001b[1;31m#testing\u001b[0m\u001b[1;33m\u001b[0m\u001b[1;33m\u001b[0m\u001b[0m\n",
      "\u001b[1;32m~\\AppData\\Local\\Temp\\1/ipykernel_29680/1465063034.py\u001b[0m in \u001b[0;36mfill_chamber\u001b[1;34m(volume)\u001b[0m\n\u001b[0;32m     21\u001b[0m     \u001b[1;31m#if necessary or hard coded to the script\u001b[0m\u001b[1;33m\u001b[0m\u001b[1;33m\u001b[0m\u001b[1;33m\u001b[0m\u001b[0m\n\u001b[0;32m     22\u001b[0m     \u001b[1;32mif\u001b[0m \u001b[0m__name__\u001b[0m \u001b[1;33m==\u001b[0m \u001b[1;34m\"__main__\"\u001b[0m\u001b[1;33m:\u001b[0m\u001b[1;33m\u001b[0m\u001b[1;33m\u001b[0m\u001b[0m\n\u001b[1;32m---> 23\u001b[1;33m         \u001b[0mfill_chamber\u001b[0m\u001b[1;33m(\u001b[0m\u001b[0mvolume\u001b[0m\u001b[1;33m)\u001b[0m\u001b[1;33m\u001b[0m\u001b[1;33m\u001b[0m\u001b[0m\n\u001b[0m\u001b[0;32m     24\u001b[0m \u001b[1;33m\u001b[0m\u001b[0m\n\u001b[0;32m     25\u001b[0m \u001b[0mfill_chamber\u001b[0m\u001b[1;33m(\u001b[0m\u001b[1;36m2.4\u001b[0m\u001b[1;33m)\u001b[0m \u001b[1;31m#testing\u001b[0m\u001b[1;33m\u001b[0m\u001b[1;33m\u001b[0m\u001b[0m\n",
      "\u001b[1;32m~\\AppData\\Local\\Temp\\1/ipykernel_29680/1465063034.py\u001b[0m in \u001b[0;36mfill_chamber\u001b[1;34m(volume)\u001b[0m\n\u001b[0;32m      5\u001b[0m     \u001b[0mreturns\u001b[0m \u001b[0monly\u001b[0m \u001b[0mafter\u001b[0m \u001b[0mthe\u001b[0m \u001b[0mpump\u001b[0m \u001b[1;32mis\u001b[0m \u001b[0mdone\u001b[0m \u001b[0mmoving\u001b[0m\u001b[1;33m\u001b[0m\u001b[1;33m\u001b[0m\u001b[0m\n\u001b[0;32m      6\u001b[0m     \"\"\"\n\u001b[1;32m----> 7\u001b[1;33m     \u001b[0mcontroller\u001b[0m\u001b[1;33m.\u001b[0m\u001b[0msmart_initialize\u001b[0m\u001b[1;33m(\u001b[0m\u001b[1;33m)\u001b[0m\u001b[1;33m\u001b[0m\u001b[1;33m\u001b[0m\u001b[0m\n\u001b[0m\u001b[0;32m      8\u001b[0m \u001b[1;33m\u001b[0m\u001b[0m\n\u001b[0;32m      9\u001b[0m     \u001b[1;31m#for i in range(1):\u001b[0m\u001b[1;33m\u001b[0m\u001b[1;33m\u001b[0m\u001b[1;33m\u001b[0m\u001b[0m\n",
      "\u001b[1;32m~\\Anaconda3\\envs\\BoTorch\\lib\\site-packages\\pycont\\controller.py\u001b[0m in \u001b[0;36msmart_initialize\u001b[1;34m(self, secure)\u001b[0m\n\u001b[0;32m   1534\u001b[0m         \"\"\"\n\u001b[0;32m   1535\u001b[0m         \u001b[1;32mfor\u001b[0m \u001b[0mpump\u001b[0m \u001b[1;32min\u001b[0m \u001b[0mlist\u001b[0m\u001b[1;33m(\u001b[0m\u001b[0mself\u001b[0m\u001b[1;33m.\u001b[0m\u001b[0mpumps\u001b[0m\u001b[1;33m.\u001b[0m\u001b[0mvalues\u001b[0m\u001b[1;33m(\u001b[0m\u001b[1;33m)\u001b[0m\u001b[1;33m)\u001b[0m\u001b[1;33m:\u001b[0m\u001b[1;33m\u001b[0m\u001b[1;33m\u001b[0m\u001b[0m\n\u001b[1;32m-> 1536\u001b[1;33m             \u001b[1;32mif\u001b[0m \u001b[1;32mnot\u001b[0m \u001b[0mpump\u001b[0m\u001b[1;33m.\u001b[0m\u001b[0mis_initialized\u001b[0m\u001b[1;33m(\u001b[0m\u001b[1;33m)\u001b[0m\u001b[1;33m:\u001b[0m\u001b[1;33m\u001b[0m\u001b[1;33m\u001b[0m\u001b[0m\n\u001b[0m\u001b[0;32m   1537\u001b[0m                 \u001b[0mpump\u001b[0m\u001b[1;33m.\u001b[0m\u001b[0minitialize_valve_only\u001b[0m\u001b[1;33m(\u001b[0m\u001b[0mwait\u001b[0m\u001b[1;33m=\u001b[0m\u001b[1;32mFalse\u001b[0m\u001b[1;33m)\u001b[0m\u001b[1;33m\u001b[0m\u001b[1;33m\u001b[0m\u001b[0m\n\u001b[0;32m   1538\u001b[0m         \u001b[0mself\u001b[0m\u001b[1;33m.\u001b[0m\u001b[0mwait_until_all_pumps_idle\u001b[0m\u001b[1;33m(\u001b[0m\u001b[1;33m)\u001b[0m\u001b[1;33m\u001b[0m\u001b[1;33m\u001b[0m\u001b[0m\n",
      "\u001b[1;32m~\\Anaconda3\\envs\\BoTorch\\lib\\site-packages\\pycont\\controller.py\u001b[0m in \u001b[0;36mis_initialized\u001b[1;34m(self)\u001b[0m\n\u001b[0;32m    532\u001b[0m         \"\"\"\n\u001b[0;32m    533\u001b[0m         \u001b[0minitialized_packet\u001b[0m \u001b[1;33m=\u001b[0m \u001b[0mself\u001b[0m\u001b[1;33m.\u001b[0m\u001b[0m_protocol\u001b[0m\u001b[1;33m.\u001b[0m\u001b[0mforge_report_initialized_packet\u001b[0m\u001b[1;33m(\u001b[0m\u001b[1;33m)\u001b[0m\u001b[1;33m\u001b[0m\u001b[1;33m\u001b[0m\u001b[0m\n\u001b[1;32m--> 534\u001b[1;33m         \u001b[1;33m(\u001b[0m\u001b[0m_\u001b[0m\u001b[1;33m,\u001b[0m \u001b[0m_\u001b[0m\u001b[1;33m,\u001b[0m \u001b[0minit_status\u001b[0m\u001b[1;33m)\u001b[0m \u001b[1;33m=\u001b[0m \u001b[0mself\u001b[0m\u001b[1;33m.\u001b[0m\u001b[0mwrite_and_read_from_pump\u001b[0m\u001b[1;33m(\u001b[0m\u001b[0minitialized_packet\u001b[0m\u001b[1;33m)\u001b[0m\u001b[1;33m\u001b[0m\u001b[1;33m\u001b[0m\u001b[0m\n\u001b[0m\u001b[0;32m    535\u001b[0m         \u001b[1;32mreturn\u001b[0m \u001b[0mbool\u001b[0m\u001b[1;33m(\u001b[0m\u001b[0mint\u001b[0m\u001b[1;33m(\u001b[0m\u001b[0minit_status\u001b[0m\u001b[1;33m)\u001b[0m\u001b[1;33m)\u001b[0m\u001b[1;33m\u001b[0m\u001b[1;33m\u001b[0m\u001b[0m\n\u001b[0;32m    536\u001b[0m \u001b[1;33m\u001b[0m\u001b[0m\n",
      "\u001b[1;32m~\\Anaconda3\\envs\\BoTorch\\lib\\site-packages\\pycont\\controller.py\u001b[0m in \u001b[0;36mwrite_and_read_from_pump\u001b[1;34m(self, packet, max_repeat)\u001b[0m\n\u001b[0;32m    445\u001b[0m                 \u001b[0mself\u001b[0m\u001b[1;33m.\u001b[0m\u001b[0mlogger\u001b[0m\u001b[1;33m.\u001b[0m\u001b[0mdebug\u001b[0m\u001b[1;33m(\u001b[0m\u001b[1;34m\"Timeout, trying again!\"\u001b[0m\u001b[1;33m)\u001b[0m\u001b[1;33m\u001b[0m\u001b[1;33m\u001b[0m\u001b[0m\n\u001b[0;32m    446\u001b[0m         \u001b[0mself\u001b[0m\u001b[1;33m.\u001b[0m\u001b[0mlogger\u001b[0m\u001b[1;33m.\u001b[0m\u001b[0mdebug\u001b[0m\u001b[1;33m(\u001b[0m\u001b[1;34m\"Too many failed communication!\"\u001b[0m\u001b[1;33m)\u001b[0m\u001b[1;33m\u001b[0m\u001b[1;33m\u001b[0m\u001b[0m\n\u001b[1;32m--> 447\u001b[1;33m         \u001b[1;32mraise\u001b[0m \u001b[0mControllerRepeatedError\u001b[0m\u001b[1;33m(\u001b[0m\u001b[1;34m'Repeated Error from pump {}'\u001b[0m\u001b[1;33m.\u001b[0m\u001b[0mformat\u001b[0m\u001b[1;33m(\u001b[0m\u001b[0mself\u001b[0m\u001b[1;33m.\u001b[0m\u001b[0mname\u001b[0m\u001b[1;33m)\u001b[0m\u001b[1;33m)\u001b[0m\u001b[1;33m\u001b[0m\u001b[1;33m\u001b[0m\u001b[0m\n\u001b[0m\u001b[0;32m    448\u001b[0m \u001b[1;33m\u001b[0m\u001b[0m\n\u001b[0;32m    449\u001b[0m     \u001b[1;32mdef\u001b[0m \u001b[0mvolume_to_step\u001b[0m\u001b[1;33m(\u001b[0m\u001b[0mself\u001b[0m\u001b[1;33m,\u001b[0m \u001b[0mvolume_in_ml\u001b[0m\u001b[1;33m:\u001b[0m \u001b[0mfloat\u001b[0m\u001b[1;33m)\u001b[0m \u001b[1;33m->\u001b[0m \u001b[0mint\u001b[0m\u001b[1;33m:\u001b[0m\u001b[1;33m\u001b[0m\u001b[1;33m\u001b[0m\u001b[0m\n",
      "\u001b[1;31mControllerRepeatedError\u001b[0m: Repeated Error from pump water"
     ]
    }
   ],
   "source": [
    "def fill_chamber(volume):\n",
    "    \"\"\"\n",
    "    This function moves the pumps the desired volume in mL and pumps it to the electrolyte chamber.\n",
    "    it pumps the liquid from the stock KHCO3 solution (valve \"I\") and outputs it to \"O\"\n",
    "    returns only after the pump is done moving\n",
    "    \"\"\"\n",
    "    controller.smart_initialize()\n",
    "\n",
    "    #for i in range(1):\n",
    "    #testing to run this for once, now it keeps injecting and ejecting forever if not interrupted\n",
    "\n",
    "    if controller.pumps[\"water\"].is_volume_pumpable(volume) and controller.pumps[\"water\"].is_idle():\n",
    "        controller.pumps['water'].transfer(volume_in_ml=volume, from_valve = \"I\", to_valve = \"O\")\n",
    "        \n",
    "    else:\n",
    "        print(\"The pump can't pump this volume since it exceeds the available volume.\")\n",
    "        return False\n",
    "    time.sleep(2)\n",
    "\n",
    "    #the volume can be asked as an iquiry to the user \n",
    "    #if necessary or hard coded to the script\n",
    "    if __name__ == \"__main__\":\n",
    "        fill_chamber(volume)\n",
    "\n",
    "fill_chamber(2.4) #testing"
   ]
  },
  {
   "cell_type": "markdown",
   "id": "b6d0ece4",
   "metadata": {},
   "source": [
    "### Emptying the electrolyte chamber\n",
    "The following function empties the electrolyte chamber by pumping the liquid from the \"O\" valve and delivering it to the \"E\" valve, to the waste beaker."
   ]
  },
  {
   "cell_type": "code",
   "execution_count": null,
   "id": "209fa783",
   "metadata": {},
   "outputs": [],
   "source": [
    "def empty_chamber(volume:float):\n",
    "    \"\"\"\n",
    "    Empties the electrolyte chamber by a desired volume. \n",
    "    \n",
    "    wait attribute is set to True to ensure that the function\n",
    "    returns only after the pump is done moving\n",
    "    \"\"\"\n",
    "    controller.pumps[\"water\"].smart_initialize()\n",
    "\n",
    "    while True:\n",
    "\n",
    "        if not controller.pumps[\"water\"].is_volume_pumpable(volume) and controller.pumps[\"water\"].is_idle():\n",
    "            print(\"The pump can't pump this volume since it exceeds the available volume.\")\n",
    "            return False           \n",
    "        else:\n",
    "            controller.pumps['water'].transfer(volume_in_ml=volume, from_valve = \"O\", to_valve = \"I\")\n",
    "   \n",
    "        break\n",
    "    \n",
    "    if __name__ == \"__main__\":\n",
    "        empty_chamber(volume)\n",
    "\n",
    "empty_chamber(2.4)\n",
    "\n",
    "#??? can there be a loop that iterates to pump volumes higher than the syringe? \n",
    "#    ans: yes but we have a syringe big enough for our needs\n",
    "#should this be in the top file?"
   ]
  },
  {
   "cell_type": "markdown",
   "id": "08ca55ab",
   "metadata": {},
   "source": [
    "### Withdrawing and pumping liquid from the same valve\n",
    "The function below withdraws liquid from the valve that the pump is currently placed in and delivers it to the same place."
   ]
  },
  {
   "cell_type": "code",
   "execution_count": null,
   "id": "9c71a13a",
   "metadata": {},
   "outputs": [],
   "source": [
    "def pump_volume(volume:float):\n",
    "  \"\"\"\n",
    "  This function moves the pump to the desired volume in mL. from the valve the pumps is at.\n",
    "  wait attribute is set to True to ensure that the function\n",
    "  returns only after the pump is done moving\n",
    "  \"\"\"\n",
    "    \n",
    "  \n",
    "  controller.pumps[\"water\"].pump(volume, wait = True)\n",
    "  print(str('pumped liquid from ' + controller.pumps[\"water\"].get_valve_position()))\n",
    "  time.sleep(2)\n",
    "  controller.pumps[\"water\"].deliver(volume,wait = True) \n",
    "  print('delivered liquid to ' + controller.pumps[\"water\"].get_valve_position())\n",
    "  time.sleep(2)\n",
    "    \n",
    "\n",
    "pump_volume(volume = 5.0)"
   ]
  },
  {
   "cell_type": "markdown",
   "id": "32d011b2",
   "metadata": {},
   "source": [
    "### Sample JSON Setup file "
   ]
  },
  {
   "cell_type": "markdown",
   "id": "2a606ff6",
   "metadata": {},
   "source": [
    "#### Configuration file for one chemical\n",
    "Below is a cell you can make edits as necessary on the chemical used with the syringe pump. You can make the changes the and run the cell which should update the configuratoin file attached to this repo, which is used for the commands. You might have to make edits in the code as the code calls chemical(s) listed in the list."
   ]
  },
  {
   "cell_type": "code",
   "execution_count": null,
   "id": "8d78f4a5",
   "metadata": {},
   "outputs": [],
   "source": [
    "#testing with water\n",
    "import json\n",
    "\n",
    "config_dict = {\n",
    "    \"io\":\n",
    "    {\n",
    "        \"port\": \"COM7\",    #check your system\n",
    "        \"baudrate\": 9600,\n",
    "        \"timeout\": 1\n",
    "    },\n",
    "    \"default\":\n",
    "    {\n",
    "        \"volume\": 5,\n",
    "        \"micro_step_mode\": 2,\n",
    "        \"top_velocity\": 5000,\n",
    "        \"initialize_valve_position\": \"I\"\n",
    "    },\n",
    "    \"groups\":\n",
    "    {\n",
    "        \"chemicals\": [\"KHCO3 1M\"]\n",
    "    },\n",
    "    \"pumps\":\n",
    "    {\n",
    "        \"water\":\n",
    "        {\n",
    "            \"switch\": \"5\"\n",
    "        }\n",
    "    }\n",
    "}\n",
    "\n",
    "\n",
    "jsonfile = json.dumps(config_dict, indent=4)\n",
    "\n",
    "with open(\"sampleconfiguration.json\", \"w\") as outfile:\n",
    "    outfile.write(jsonfile)"
   ]
  },
  {
   "cell_type": "markdown",
   "id": "ae53a437",
   "metadata": {},
   "source": [
    "#### Configuration file for multiple chemicals"
   ]
  },
  {
   "cell_type": "code",
   "execution_count": null,
   "id": "4be54870",
   "metadata": {},
   "outputs": [],
   "source": [
    "#sample configuration file with multiple chemicals - we will be dealing with CO2 and KHCO3 only\n",
    "{\"default\": \n",
    "   {\"volume\": 5,\n",
    "    \"micro_step_mode\": 2,\n",
    "    \"top_velocity\": 24000,\n",
    "    \"initialize_valve_position\": \"I\"},\n",
    "\n",
    " \"hubs\": [\n",
    "    {\"io\": {\"port\": \"COM7\",\n",
    "            \"baudrate\": 9600,\n",
    "            \"timeout\": 1},\n",
    "     \"pumps\": {\"acetone\": {\"switch\": \"0\"},\n",
    "               \"water\": {\"switch\": \"1\", \"top_velocity\": 12000}\n",
    "               }\n",
    "    },\n",
    "    {\"io\": {\"port\": \"COM7\",\n",
    "            \"baudrate\": 9600,\n",
    "            \"timeout\": 1},\n",
    "     \"pumps\": {\"pentanol\": {\"switch\": \"0\"}}\n",
    "    }\n",
    "  ],\n",
    "  \"groups\": {\n",
    "    \"chemicals\": [\"acetone\", \"water\"],\n",
    "    \"oils\": [\"pentanol\"]\n",
    "  }\n",
    "}  "
   ]
  },
  {
   "cell_type": "code",
   "execution_count": null,
   "id": "545c154f",
   "metadata": {},
   "outputs": [],
   "source": [
    "pycont.controller.C3000Controller(pump_io: ,\n",
    "    name: 'TCP',\n",
    "    address: 'COM7',\n",
    "    total_volume: 3.0,\n",
    "    micro_step_mode: int = 2,\n",
    "    top_velocity: int = 6000,\n",
    "    initialize_valve_position: str = 'I')\n",
    "\n",
    "#tbh I don't really remember why I added this but I will keep it just in case"
   ]
  },
  {
   "cell_type": "markdown",
   "id": "38a039ab",
   "metadata": {},
   "source": [
    "#### Commands that might be useful in the future"
   ]
  },
  {
   "cell_type": "code",
   "execution_count": null,
   "id": "efab5b3b",
   "metadata": {},
   "outputs": [],
   "source": [
    "controller.pumps[\"water\"].get_raw_valve_position() #tells you what valve you are at"
   ]
  },
  {
   "cell_type": "code",
   "execution_count": null,
   "id": "5c4d5cf8",
   "metadata": {},
   "outputs": [],
   "source": [
    "#controller.pumps[\"water\"].go_to_volume(2.0)\n",
    "#controller.pumps[\"water\"].pump(2.0) #this only allows you to specify which vlve you want to pump the liquid from where the other oen goes to volume not carin about the valve\n",
    "#controller.pumps[\"water\"].deliver(2.0)\n",
    "controller.pumps[\"water\"].get_volume()#tells how much volume there is in the pump\n",
    "controller.pumps[\"water\"].is_volume_pumpable(5.0)"
   ]
  },
  {
   "cell_type": "code",
   "execution_count": null,
   "id": "551f62f6",
   "metadata": {},
   "outputs": [],
   "source": []
  },
  {
   "cell_type": "markdown",
   "id": "8ff2be65",
   "metadata": {},
   "source": [
    "### Robert Added Simple Use Case Below"
   ]
  },
  {
   "cell_type": "markdown",
   "id": "be6b6822",
   "metadata": {},
   "source": [
    "Initialize Libraries"
   ]
  },
  {
   "cell_type": "code",
   "execution_count": 1,
   "id": "a7a694a6",
   "metadata": {},
   "outputs": [],
   "source": [
    "import pycont.controller as cont\n",
    "import time\n",
    "import logging\n",
    "import serial #in case we close the port in each function"
   ]
  },
  {
   "cell_type": "markdown",
   "id": "11194c91",
   "metadata": {},
   "source": [
    "Load the configuration file and instantiate an instance of the controller, calling in the config file"
   ]
  },
  {
   "cell_type": "code",
   "execution_count": 2,
   "id": "cc5a322c",
   "metadata": {},
   "outputs": [],
   "source": [
    "#RB Added\n",
    "logging.basicConfig(level=logging.INFO)\n",
    "setup_config_file = r\"C:\\Users\\Blackr\\Documents\\CCUS\\MAPs\\Pump_Config.json\" # check your system\n",
    "\n",
    "controller = cont.MultiPumpController.from_configfile(setup_config_file)\n",
    "\n",
    "#initialize the pump - smart initialize is to avoid reinitializing, and resetting the pump back to zero position\n",
    "#controller.smart_initialize()"
   ]
  },
  {
   "cell_type": "markdown",
   "id": "023cc291",
   "metadata": {},
   "source": [
    "Initialize the pump - you should see it move to the zero position"
   ]
  },
  {
   "cell_type": "code",
   "execution_count": 3,
   "id": "591d57b0",
   "metadata": {},
   "outputs": [],
   "source": [
    "controller.smart_initialize()"
   ]
  },
  {
   "cell_type": "markdown",
   "id": "b719a270",
   "metadata": {},
   "source": [
    "Basic operation below which is good for our needs. Inputs are total volume, liquid inlet, and liquid outlet\n",
    "\n",
    "I believe 'I' = 9 o'clock, 'O' = 3 o'clock, and 'E' = 12 o'clock"
   ]
  },
  {
   "cell_type": "code",
   "execution_count": 4,
   "id": "7d38989b",
   "metadata": {},
   "outputs": [],
   "source": [
    "controller.pumps['liquid'].transfer(1, 'I', 'O') "
   ]
  },
  {
   "cell_type": "code",
   "execution_count": 7,
   "id": "6c5a5e61",
   "metadata": {},
   "outputs": [],
   "source": [
    "controller.pumps['liquid'].transfer(2, 'E', 'O') "
   ]
  },
  {
   "cell_type": "code",
   "execution_count": null,
   "id": "9be0d88f",
   "metadata": {},
   "outputs": [],
   "source": []
  }
 ],
 "metadata": {
  "kernelspec": {
   "display_name": "Python 3 (ipykernel)",
   "language": "python",
   "name": "python3"
  },
  "language_info": {
   "codemirror_mode": {
    "name": "ipython",
    "version": 3
   },
   "file_extension": ".py",
   "mimetype": "text/x-python",
   "name": "python",
   "nbconvert_exporter": "python",
   "pygments_lexer": "ipython3",
   "version": "3.7.11"
  },
  "vscode": {
   "interpreter": {
    "hash": "aaa1ecec86f523cae574774f0c33eecb1292a42f0db9dbeb59c81e008293f501"
   }
  }
 },
 "nbformat": 4,
 "nbformat_minor": 5
}
